{
  "nbformat": 4,
  "nbformat_minor": 0,
  "metadata": {
    "colab": {
      "provenance": []
    },
    "kernelspec": {
      "name": "python3",
      "display_name": "Python 3"
    },
    "language_info": {
      "name": "python"
    }
  },
  "cells": [
    {
      "cell_type": "code",
      "execution_count": null,
      "metadata": {
        "colab": {
          "base_uri": "https://localhost:8080/"
        },
        "id": "v-ztrQxyXLFO",
        "outputId": "4e2e48e4-0581-4d17-8746-02e92d3f392f"
      },
      "outputs": [
        {
          "output_type": "stream",
          "name": "stdout",
          "text": [
            "<class 'numpy.ndarray'>\n",
            "(60000, 28, 28)\n",
            "(5000, 784)\n"
          ]
        }
      ],
      "source": [
        "from sklearn.random_projection import GaussianRandomProjection\n",
        "from sklearn.random_projection import SparseRandomProjection\n",
        "from sklearn.decomposition import PCA\n",
        "from sklearn.datasets import make_regression\n",
        "from keras.datasets import mnist\n",
        "from numpy import reshape\n",
        "from mpl_toolkits.mplot3d import Axes3D\n",
        "import matplotlib.pyplot as plt\n",
        "import seaborn as sns\n",
        "import pandas as pd\n",
        "\n",
        "#x, _ = make_regression(n_samples=50000, n_features=1000)\n",
        "#print(x.shape)\n",
        "\n",
        "(x_train, y_train), (x_test, y_test) = mnist.load_data()\n",
        "print(type(x_train))\n",
        "print(x_train.shape)\n",
        "x_train = x_train[0:5000]\n",
        "y_train = y_train[0:5000]\n",
        "x_mnist = reshape(x_train, [x_train.shape[0], x_train.shape[1] * x_train.shape[2]])\n",
        "t_mnist =  reshape(x_test, [x_test.shape[0], x_test.shape[1] * x_test.shape[2]])\n",
        "print(x_mnist.shape)"
      ]
    },
    {
      "cell_type": "code",
      "source": [
        "# Gaussian random prejection on 2 components\n",
        "grp = GaussianRandomProjection(n_components=2)\n",
        "z = grp.fit_transform(x_mnist)\n",
        "\n",
        "df_grp = pd.DataFrame()\n",
        "df_grp[\"y\"] = y_train\n",
        "df_grp[\"comp-1\"] = z[:, 0]\n",
        "df_grp[\"comp-2\"] = z[:, 1]"
      ],
      "metadata": {
        "id": "JJGogYlIXRPV"
      },
      "execution_count": null,
      "outputs": []
    },
    {
      "cell_type": "code",
      "source": [
        "# Gaussian random prejection on 2 components\n",
        "grp = GaussianRandomProjection(n_components=2)\n",
        "q = grp.fit_transform(t_mnist)\n",
        "\n",
        "df_grp = pd.DataFrame()\n",
        "df_grp[\"y\"] = y_test\n",
        "df_grp[\"comp-1\"] = q[:, 0]\n",
        "df_grp[\"comp-2\"] = q[:, 1]"
      ],
      "metadata": {
        "id": "x_jRwgCfXXCE"
      },
      "execution_count": null,
      "outputs": []
    },
    {
      "cell_type": "code",
      "source": [
        "# Generate SVC Model\n",
        "from sklearn import svm\n",
        "\n",
        "# Create a svm Classifier\n",
        "clf = svm.SVC(kernel='linear' ,cache_size=7000) # linear kernel\n",
        "\n",
        "# Train the model using the training sets\n",
        "clf.fit(z,y_train)\n",
        "\n",
        "# Predict the response for test dataset\n",
        "y_pred = clf.predict(q)"
      ],
      "metadata": {
        "id": "_4XPh025XaJr"
      },
      "execution_count": null,
      "outputs": []
    },
    {
      "cell_type": "code",
      "source": [
        "from sklearn import metrics\n",
        "\n",
        "print(\"Accuracy: \", metrics.accuracy_score(y_test, y_pred))"
      ],
      "metadata": {
        "id": "P1R0zwNgXcJw",
        "colab": {
          "base_uri": "https://localhost:8080/"
        },
        "outputId": "1b95c38d-ea70-4d28-8a54-2b903658ea4d"
      },
      "execution_count": null,
      "outputs": [
        {
          "metadata": {
            "tags": null
          },
          "name": "stdout",
          "output_type": "stream",
          "text": [
            "Accuracy:  0.069\n"
          ]
        }
      ]
    }
  ]
}