{
  "nbformat": 4,
  "nbformat_minor": 0,
  "metadata": {
    "colab": {
      "provenance": []
    },
    "kernelspec": {
      "name": "python3",
      "display_name": "Python 3"
    },
    "language_info": {
      "name": "python"
    }
  },
  "cells": [
    {
      "cell_type": "markdown",
      "source": [
        "Import relevant libraries"
      ],
      "metadata": {
        "id": "H0PwiSnigEPK"
      }
    },
    {
      "cell_type": "code",
      "execution_count": 5,
      "metadata": {
        "id": "piWlLGpyfgFn"
      },
      "outputs": [],
      "source": [
        "import numpy as np\n",
        "import torch\n",
        "import torch.nn as nn\n",
        "import torch.optim as optim\n",
        "from sklearn.ensemble import RandomForestClassifier\n",
        "from sklearn.metrics import accuracy_score\n",
        "from torchvision import datasets, transforms"
      ]
    },
    {
      "cell_type": "markdown",
      "source": [
        "Load Dataset"
      ],
      "metadata": {
        "id": "B7bqVh4LgCmP"
      }
    },
    {
      "cell_type": "code",
      "source": [
        "# Define a transform to convert images to tensors\n",
        "transform = transforms.ToTensor()\n",
        "\n",
        "# Load the MNIST dataset\n",
        "mnist_train_data = datasets.MNIST(root='./data', train=True, download=True, transform=transform)\n",
        "mnist_test_data = datasets.MNIST(root='./data', train=False, download=True, transform=transform)\n",
        "\n",
        "# Create data loaders to load the data in batches\n",
        "data_loader = torch.utils.data.DataLoader(dataset=mnist_train_data, batch_size=64, shuffle=True)\n",
        "data_loader_test = torch.utils.data.DataLoader(dataset=mnist_test_data, batch_size=10000, shuffle=False)"
      ],
      "metadata": {
        "id": "oiaA3AYYfl1Z"
      },
      "execution_count": null,
      "outputs": []
    },
    {
      "cell_type": "markdown",
      "source": [
        "Define the Autoencoder"
      ],
      "metadata": {
        "id": "4Ixw9knggA5L"
      }
    },
    {
      "cell_type": "code",
      "source": [
        "# This is the definition of the Autoencoder model using a neural network with encoder and decoder modules.\n",
        "class Autoencoder100D(nn.Module):\n",
        "    def __init__(self):\n",
        "        super(Autoencoder100D, self).__init__()\n",
        "        # N, 784\n",
        "        self.encoder = nn.Sequential(\n",
        "            nn.Linear(784, 392),\n",
        "            nn.ReLU(),\n",
        "            nn.Linear(392, 196),\n",
        "            nn.ReLU(),\n",
        "            nn.Linear(196, 100)\n",
        "        )\n",
        "\n",
        "        self.decoder = nn.Sequential(\n",
        "            nn.Linear(100, 196),\n",
        "            nn.ReLU(),\n",
        "            nn.Linear(196, 392),\n",
        "            nn.ReLU(),\n",
        "            nn.Linear(392, 784),\n",
        "            nn.Sigmoid()\n",
        "        )\n",
        "\n",
        "    def forward(self, x):\n",
        "        encoded = self.encoder(x)\n",
        "        decoded = self.decoder(encoded)\n",
        "        return decoded"
      ],
      "metadata": {
        "id": "YzdogJjIfn1N"
      },
      "execution_count": 7,
      "outputs": []
    },
    {
      "cell_type": "markdown",
      "source": [
        "Define the relevant model parameters"
      ],
      "metadata": {
        "id": "1Bf9zL1_f-Rn"
      }
    },
    {
      "cell_type": "code",
      "source": [
        "# These lines define the loss function (MSE loss), instantiate the Autoencoder model\n",
        "# learning rate of 1e-3 and L2 regularization with a weight decay of 1e-5.\n",
        "criterion = nn.MSELoss()\n",
        "model = Autoencoder100D()\n",
        "optimizer = optim.SGD(model.parameters(), lr=0.1, weight_decay=1e-10, momentum=0.9)"
      ],
      "metadata": {
        "id": "XNpe-vxmfrus"
      },
      "execution_count": 8,
      "outputs": []
    },
    {
      "cell_type": "markdown",
      "source": [
        "train the model"
      ],
      "metadata": {
        "id": "2SgQyBBpf71V"
      }
    },
    {
      "cell_type": "code",
      "source": [
        "# train the model over n epochs\n",
        "num_epochs = 100\n",
        "encPics = []\n",
        "labels = []\n",
        "for epoch in range(num_epochs):\n",
        "    for (img, _) in data_loader:\n",
        "        img = img.reshape(-1, 28 * 28)\n",
        "        recon = model(img)\n",
        "        loss = criterion(recon, img)\n",
        "\n",
        "        optimizer.zero_grad()\n",
        "        loss.backward()\n",
        "        optimizer.step()\n",
        "\n",
        "    print(f'Epoch:{epoch + 1}, Loss:{loss.item():.4f}')"
      ],
      "metadata": {
        "colab": {
          "base_uri": "https://localhost:8080/"
        },
        "id": "FtFifnAqfuBS",
        "outputId": "44c9b8be-ef24-43f9-c118-098e7763f818"
      },
      "execution_count": 9,
      "outputs": [
        {
          "output_type": "stream",
          "name": "stdout",
          "text": [
            "Epoch:1, Loss:0.0646\n",
            "Epoch:2, Loss:0.0636\n",
            "Epoch:3, Loss:0.0593\n",
            "Epoch:4, Loss:0.0561\n",
            "Epoch:5, Loss:0.0583\n",
            "Epoch:6, Loss:0.0571\n",
            "Epoch:7, Loss:0.0479\n",
            "Epoch:8, Loss:0.0451\n",
            "Epoch:9, Loss:0.0421\n",
            "Epoch:10, Loss:0.0341\n",
            "Epoch:11, Loss:0.0348\n",
            "Epoch:12, Loss:0.0324\n",
            "Epoch:13, Loss:0.0278\n",
            "Epoch:14, Loss:0.0312\n",
            "Epoch:15, Loss:0.0281\n",
            "Epoch:16, Loss:0.0284\n",
            "Epoch:17, Loss:0.0237\n",
            "Epoch:18, Loss:0.0253\n",
            "Epoch:19, Loss:0.0283\n",
            "Epoch:20, Loss:0.0261\n",
            "Epoch:21, Loss:0.0230\n",
            "Epoch:22, Loss:0.0252\n",
            "Epoch:23, Loss:0.0218\n",
            "Epoch:24, Loss:0.0203\n",
            "Epoch:25, Loss:0.0197\n",
            "Epoch:26, Loss:0.0219\n",
            "Epoch:27, Loss:0.0223\n",
            "Epoch:28, Loss:0.0177\n",
            "Epoch:29, Loss:0.0205\n",
            "Epoch:30, Loss:0.0222\n",
            "Epoch:31, Loss:0.0130\n",
            "Epoch:32, Loss:0.0180\n",
            "Epoch:33, Loss:0.0177\n",
            "Epoch:34, Loss:0.0187\n",
            "Epoch:35, Loss:0.0188\n",
            "Epoch:36, Loss:0.0150\n",
            "Epoch:37, Loss:0.0145\n",
            "Epoch:38, Loss:0.0124\n",
            "Epoch:39, Loss:0.0160\n",
            "Epoch:40, Loss:0.0167\n",
            "Epoch:41, Loss:0.0143\n",
            "Epoch:42, Loss:0.0163\n",
            "Epoch:43, Loss:0.0138\n",
            "Epoch:44, Loss:0.0143\n",
            "Epoch:45, Loss:0.0133\n",
            "Epoch:46, Loss:0.0145\n",
            "Epoch:47, Loss:0.0128\n",
            "Epoch:48, Loss:0.0147\n",
            "Epoch:49, Loss:0.0105\n",
            "Epoch:50, Loss:0.0121\n",
            "Epoch:51, Loss:0.0123\n",
            "Epoch:52, Loss:0.0142\n",
            "Epoch:53, Loss:0.0143\n",
            "Epoch:54, Loss:0.0140\n",
            "Epoch:55, Loss:0.0100\n",
            "Epoch:56, Loss:0.0119\n",
            "Epoch:57, Loss:0.0121\n",
            "Epoch:58, Loss:0.0112\n",
            "Epoch:59, Loss:0.0099\n",
            "Epoch:60, Loss:0.0127\n",
            "Epoch:61, Loss:0.0089\n",
            "Epoch:62, Loss:0.0130\n",
            "Epoch:63, Loss:0.0102\n",
            "Epoch:64, Loss:0.0108\n",
            "Epoch:65, Loss:0.0096\n",
            "Epoch:66, Loss:0.0101\n",
            "Epoch:67, Loss:0.0102\n",
            "Epoch:68, Loss:0.0102\n",
            "Epoch:69, Loss:0.0104\n",
            "Epoch:70, Loss:0.0091\n",
            "Epoch:71, Loss:0.0105\n",
            "Epoch:72, Loss:0.0095\n",
            "Epoch:73, Loss:0.0104\n",
            "Epoch:74, Loss:0.0094\n",
            "Epoch:75, Loss:0.0101\n",
            "Epoch:76, Loss:0.0094\n",
            "Epoch:77, Loss:0.0087\n",
            "Epoch:78, Loss:0.0091\n",
            "Epoch:79, Loss:0.0089\n",
            "Epoch:80, Loss:0.0098\n",
            "Epoch:81, Loss:0.0100\n",
            "Epoch:82, Loss:0.0097\n",
            "Epoch:83, Loss:0.0078\n",
            "Epoch:84, Loss:0.0087\n",
            "Epoch:85, Loss:0.0092\n",
            "Epoch:86, Loss:0.0093\n",
            "Epoch:87, Loss:0.0075\n",
            "Epoch:88, Loss:0.0090\n",
            "Epoch:89, Loss:0.0091\n",
            "Epoch:90, Loss:0.0096\n",
            "Epoch:91, Loss:0.0080\n",
            "Epoch:92, Loss:0.0090\n",
            "Epoch:93, Loss:0.0092\n",
            "Epoch:94, Loss:0.0085\n",
            "Epoch:95, Loss:0.0072\n",
            "Epoch:96, Loss:0.0086\n",
            "Epoch:97, Loss:0.0072\n",
            "Epoch:98, Loss:0.0073\n",
            "Epoch:99, Loss:0.0107\n",
            "Epoch:100, Loss:0.0074\n"
          ]
        }
      ]
    },
    {
      "cell_type": "markdown",
      "source": [
        "Determine the accuracy of the Random Forest classifier on the reduced data"
      ],
      "metadata": {
        "id": "JEtDExyKf5gU"
      }
    },
    {
      "cell_type": "code",
      "source": [
        "for (img, l) in data_loader_test:\n",
        "    item = img.reshape(-1, 28 * 28)\n",
        "    enc = model.encoder(item)\n",
        "    enc = enc.detach().numpy()\n",
        "    l = l.detach().numpy()\n",
        "    encPics.append(enc)\n",
        "    labels.append(l)\n",
        "\n",
        "rf = RandomForestClassifier(n_estimators=266, max_depth=11)\n",
        "encPics = np.reshape(encPics, (-1, 100))\n",
        "labels = np.reshape(labels, (-1, 1))\n",
        "labels = labels.ravel()\n",
        "rf.fit(encPics, labels)\n",
        "y_pred_1 = rf.predict(encPics)\n",
        "\n",
        "accscore = accuracy_score(labels, y_pred_1, normalize=True)\n",
        "print(accscore)"
      ],
      "metadata": {
        "colab": {
          "base_uri": "https://localhost:8080/"
        },
        "id": "bckwf8bzfy8j",
        "outputId": "d3e5f16c-a712-428e-c99e-93c661e3842c"
      },
      "execution_count": 10,
      "outputs": [
        {
          "output_type": "stream",
          "name": "stdout",
          "text": [
            "0.9947\n"
          ]
        }
      ]
    }
  ]
}