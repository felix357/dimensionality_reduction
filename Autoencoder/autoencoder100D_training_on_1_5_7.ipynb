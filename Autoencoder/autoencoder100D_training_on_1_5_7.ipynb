{
  "nbformat": 4,
  "nbformat_minor": 0,
  "metadata": {
    "colab": {
      "provenance": []
    },
    "kernelspec": {
      "name": "python3",
      "display_name": "Python 3"
    },
    "language_info": {
      "name": "python"
    }
  },
  "cells": [
    {
      "cell_type": "markdown",
      "source": [
        "import relevant libraries"
      ],
      "metadata": {
        "id": "84Sj8rHfE670"
      }
    },
    {
      "cell_type": "code",
      "execution_count": 6,
      "metadata": {
        "id": "lfkTZmjhEvxS"
      },
      "outputs": [],
      "source": [
        "import torch\n",
        "import torch.nn as nn\n",
        "import torch.optim as optim\n",
        "from torchvision import datasets, transforms\n",
        "import matplotlib.pyplot as plt\n",
        "from sklearn.metrics import accuracy_score, classification_report\n",
        "from sklearn.ensemble import RandomForestClassifier\n",
        "import numpy as np"
      ]
    },
    {
      "cell_type": "markdown",
      "source": [
        "Load Dataset"
      ],
      "metadata": {
        "id": "t8s6KZfSE9b3"
      }
    },
    {
      "cell_type": "code",
      "source": [
        "# Define a transform to convert images to tensors\n",
        "transform = transforms.ToTensor()\n",
        "\n",
        "# Load the MNIST dataset\n",
        "mnist_train_data = datasets.MNIST(root='./data', train=True, download=True, transform=transform)\n",
        "mnist_test_data = datasets.MNIST(root='./data', train=False, download=True, transform=transform)\n",
        "\n",
        "indices = (mnist_train_data.targets == 5) | (mnist_train_data.targets == 1) | (mnist_train_data.targets == 7)\n",
        "mnist_train_data.data, mnist_train_data.targets = mnist_train_data.data[indices], mnist_train_data.targets[indices]\n",
        "\n",
        "# Create data loaders to load the data in batches\n",
        "data_loader = torch.utils.data.DataLoader(dataset=mnist_train_data, batch_size=64, shuffle=True)\n",
        "data_loader_test = torch.utils.data.DataLoader(dataset=mnist_test_data, batch_size=10000, shuffle=False)"
      ],
      "metadata": {
        "id": "Qd1sEUGbE9or"
      },
      "execution_count": 7,
      "outputs": []
    },
    {
      "cell_type": "markdown",
      "source": [
        "Define Autoencoder"
      ],
      "metadata": {
        "id": "FJF7g3ecFB6c"
      }
    },
    {
      "cell_type": "code",
      "source": [
        "# This is the definition of the Autoencoder model using a neural network with encoder and decoder modules.\n",
        "class Autoencoder2(nn.Module):\n",
        "    def __init__(self):\n",
        "        super(Autoencoder2, self).__init__()\n",
        "        # N, 784\n",
        "        self.encoder = nn.Sequential(\n",
        "            nn.Linear(784, 392),\n",
        "            nn.ReLU(),\n",
        "            nn.Linear(392, 196),\n",
        "            nn.ReLU(),\n",
        "            nn.Linear(196, 100),\n",
        "        )\n",
        "\n",
        "        self.decoder = nn.Sequential(\n",
        "            nn.Linear(100, 196),\n",
        "            nn.ReLU(),\n",
        "            nn.Linear(196, 392),\n",
        "            nn.ReLU(),\n",
        "            nn.Linear(392, 784),\n",
        "            nn.Sigmoid()\n",
        "        )\n",
        "\n",
        "    def forward(self, x):\n",
        "        encoded = self.encoder(x)\n",
        "        decoded = self.decoder(encoded)\n",
        "        return decoded"
      ],
      "metadata": {
        "id": "H4AH1bQrFCFb"
      },
      "execution_count": 8,
      "outputs": []
    },
    {
      "cell_type": "markdown",
      "source": [
        "Train model"
      ],
      "metadata": {
        "id": "4TeksoOKFJbF"
      }
    },
    {
      "cell_type": "code",
      "source": [
        "# These lines define the loss function (MSE loss), instantiate the Autoencoder model\n",
        "# learning rate of 1e-3 and L2 regularization with a weight decay of 1e-5.\n",
        "criterion = nn.MSELoss()\n",
        "model = Autoencoder2()\n",
        "optimizer = optim.SGD(model.parameters(), lr=0.1, weight_decay=1e-10, momentum=0.9)\n",
        "\n",
        "# train the model over n epochs\n",
        "num_epochs = 100\n",
        "encPics = []\n",
        "labels = []\n",
        "outputs = []\n",
        "for epoch in range(num_epochs):\n",
        "    for (img, _) in data_loader:\n",
        "        img = img.reshape(-1, 28 * 28)\n",
        "        recon = model(img)\n",
        "        loss = criterion(recon, img)\n",
        "\n",
        "        optimizer.zero_grad()\n",
        "        loss.backward()\n",
        "        optimizer.step()\n",
        "\n",
        "    print(f'Epoch:{epoch + 1}, Loss:{loss.item():.4f}')\n",
        "    outputs.append((epoch, img, recon))"
      ],
      "metadata": {
        "colab": {
          "base_uri": "https://localhost:8080/"
        },
        "id": "61Yto7ztFJlr",
        "outputId": "07dd86a6-139c-424c-e61d-c0f845b96690"
      },
      "execution_count": 9,
      "outputs": [
        {
          "output_type": "stream",
          "name": "stdout",
          "text": [
            "Epoch:1, Loss:0.0579\n",
            "Epoch:2, Loss:0.0492\n",
            "Epoch:3, Loss:0.0524\n",
            "Epoch:4, Loss:0.0512\n",
            "Epoch:5, Loss:0.0511\n",
            "Epoch:6, Loss:0.0486\n",
            "Epoch:7, Loss:0.0464\n",
            "Epoch:8, Loss:0.0494\n",
            "Epoch:9, Loss:0.0468\n",
            "Epoch:10, Loss:0.0378\n",
            "Epoch:11, Loss:0.0432\n",
            "Epoch:12, Loss:0.0432\n",
            "Epoch:13, Loss:0.0452\n",
            "Epoch:14, Loss:0.0401\n",
            "Epoch:15, Loss:0.0394\n",
            "Epoch:16, Loss:0.0348\n",
            "Epoch:17, Loss:0.0347\n",
            "Epoch:18, Loss:0.0355\n",
            "Epoch:19, Loss:0.0343\n",
            "Epoch:20, Loss:0.0335\n",
            "Epoch:21, Loss:0.0335\n",
            "Epoch:22, Loss:0.0328\n",
            "Epoch:23, Loss:0.0313\n",
            "Epoch:24, Loss:0.0314\n",
            "Epoch:25, Loss:0.0257\n",
            "Epoch:26, Loss:0.0278\n",
            "Epoch:27, Loss:0.0287\n",
            "Epoch:28, Loss:0.0274\n",
            "Epoch:29, Loss:0.0265\n",
            "Epoch:30, Loss:0.0233\n",
            "Epoch:31, Loss:0.0251\n",
            "Epoch:32, Loss:0.0239\n",
            "Epoch:33, Loss:0.0253\n",
            "Epoch:34, Loss:0.0246\n",
            "Epoch:35, Loss:0.0218\n",
            "Epoch:36, Loss:0.0222\n",
            "Epoch:37, Loss:0.0232\n",
            "Epoch:38, Loss:0.0216\n",
            "Epoch:39, Loss:0.0222\n",
            "Epoch:40, Loss:0.0205\n",
            "Epoch:41, Loss:0.0198\n",
            "Epoch:42, Loss:0.0215\n",
            "Epoch:43, Loss:0.0182\n",
            "Epoch:44, Loss:0.0214\n",
            "Epoch:45, Loss:0.0173\n",
            "Epoch:46, Loss:0.0192\n",
            "Epoch:47, Loss:0.0188\n",
            "Epoch:48, Loss:0.0170\n",
            "Epoch:49, Loss:0.0210\n",
            "Epoch:50, Loss:0.0170\n",
            "Epoch:51, Loss:0.0220\n",
            "Epoch:52, Loss:0.0195\n",
            "Epoch:53, Loss:0.0185\n",
            "Epoch:54, Loss:0.0196\n",
            "Epoch:55, Loss:0.0143\n",
            "Epoch:56, Loss:0.0182\n",
            "Epoch:57, Loss:0.0161\n",
            "Epoch:58, Loss:0.0169\n",
            "Epoch:59, Loss:0.0167\n",
            "Epoch:60, Loss:0.0205\n",
            "Epoch:61, Loss:0.0144\n",
            "Epoch:62, Loss:0.0168\n",
            "Epoch:63, Loss:0.0164\n",
            "Epoch:64, Loss:0.0163\n",
            "Epoch:65, Loss:0.0208\n",
            "Epoch:66, Loss:0.0156\n",
            "Epoch:67, Loss:0.0158\n",
            "Epoch:68, Loss:0.0189\n",
            "Epoch:69, Loss:0.0191\n",
            "Epoch:70, Loss:0.0156\n",
            "Epoch:71, Loss:0.0154\n",
            "Epoch:72, Loss:0.0179\n",
            "Epoch:73, Loss:0.0155\n",
            "Epoch:74, Loss:0.0187\n",
            "Epoch:75, Loss:0.0174\n",
            "Epoch:76, Loss:0.0180\n",
            "Epoch:77, Loss:0.0175\n",
            "Epoch:78, Loss:0.0143\n",
            "Epoch:79, Loss:0.0147\n",
            "Epoch:80, Loss:0.0151\n",
            "Epoch:81, Loss:0.0161\n",
            "Epoch:82, Loss:0.0114\n",
            "Epoch:83, Loss:0.0157\n",
            "Epoch:84, Loss:0.0143\n",
            "Epoch:85, Loss:0.0128\n",
            "Epoch:86, Loss:0.0185\n",
            "Epoch:87, Loss:0.0160\n",
            "Epoch:88, Loss:0.0156\n",
            "Epoch:89, Loss:0.0145\n",
            "Epoch:90, Loss:0.0151\n",
            "Epoch:91, Loss:0.0165\n",
            "Epoch:92, Loss:0.0162\n",
            "Epoch:93, Loss:0.0176\n",
            "Epoch:94, Loss:0.0153\n",
            "Epoch:95, Loss:0.0164\n",
            "Epoch:96, Loss:0.0131\n",
            "Epoch:97, Loss:0.0134\n",
            "Epoch:98, Loss:0.0162\n",
            "Epoch:99, Loss:0.0155\n",
            "Epoch:100, Loss:0.0156\n"
          ]
        }
      ]
    },
    {
      "cell_type": "markdown",
      "source": [
        "Run Random Forest Classifier on encoded data"
      ],
      "metadata": {
        "id": "WT120viwFQ6s"
      }
    },
    {
      "cell_type": "code",
      "source": [
        "for (img, l) in data_loader_test:\n",
        "    item = img.reshape(-1, 28 * 28)\n",
        "    enc = model.encoder(item)\n",
        "    enc = enc.detach().numpy()\n",
        "    l = l.detach().numpy()\n",
        "    encPics.append(enc)\n",
        "    labels.append(l)\n",
        "\n",
        "rf = RandomForestClassifier(n_estimators=266, max_depth=11)\n",
        "encPics = np.reshape(encPics, (-1, 100))\n",
        "labels = np.reshape(labels, (-1, 1))\n",
        "labels = labels.ravel()\n",
        "rf.fit(encPics, labels)\n",
        "y_pred_1 = rf.predict(encPics)\n",
        "\n",
        "accscore = accuracy_score(labels, y_pred_1, normalize=True)\n",
        "print(accscore)\n",
        "\n",
        "print(classification_report(labels, y_pred_1))"
      ],
      "metadata": {
        "colab": {
          "base_uri": "https://localhost:8080/"
        },
        "id": "3RCAaWIMFSNb",
        "outputId": "b7ac1ae7-1ccc-472b-d24a-dca294ddf8c8"
      },
      "execution_count": 10,
      "outputs": [
        {
          "output_type": "stream",
          "name": "stdout",
          "text": [
            "0.9405\n",
            "              precision    recall  f1-score   support\n",
            "\n",
            "           0       0.95      0.98      0.96       980\n",
            "           1       1.00      0.99      0.99      1135\n",
            "           2       0.97      0.95      0.96      1032\n",
            "           3       0.89      0.90      0.89      1010\n",
            "           4       0.90      0.94      0.92       982\n",
            "           5       0.97      0.90      0.94       892\n",
            "           6       0.93      0.97      0.95       958\n",
            "           7       0.99      0.97      0.98      1028\n",
            "           8       0.89      0.89      0.89       974\n",
            "           9       0.91      0.92      0.91      1009\n",
            "\n",
            "    accuracy                           0.94     10000\n",
            "   macro avg       0.94      0.94      0.94     10000\n",
            "weighted avg       0.94      0.94      0.94     10000\n",
            "\n"
          ]
        }
      ]
    },
    {
      "cell_type": "markdown",
      "source": [
        "Plot the reconstructed pictures"
      ],
      "metadata": {
        "id": "GxeG0-yqFXjF"
      }
    },
    {
      "cell_type": "code",
      "source": [
        "# Plot the resulting images\n",
        "#for k in range(0, num_epochs, 10):\n",
        "plt.figure(figsize=(9, 2))\n",
        "plt.gray()\n",
        "\n",
        "reconPics = []\n",
        "imgs = []\n",
        "for (img, _) in data_loader_test:\n",
        "    item = img.reshape(-1, 28 * 28)\n",
        "    recon = model(item)\n",
        "    reconPics = recon\n",
        "    imgs = img\n",
        "\n",
        "for i, item in enumerate(imgs):\n",
        "    if i >= 9: break\n",
        "    plt.subplot(2, 9, i + 1)\n",
        "    item = item.reshape(-1, 28, 28)\n",
        "    plt.imshow(item[0])\n",
        "\n",
        "for i, item in enumerate(reconPics):\n",
        "    if i >= 9: break\n",
        "    plt.subplot(2, 9, 9 + i + 1)\n",
        "    item = item.reshape(-1, 28, 28)\n",
        "    plt.imshow((item.detach().numpy())[0])\n",
        "\n",
        "plt.show()"
      ],
      "metadata": {
        "colab": {
          "base_uri": "https://localhost:8080/",
          "height": 214
        },
        "id": "LhS5u4zlFXtB",
        "outputId": "832c0598-11a9-48ba-b2f4-e19ac8749ccc"
      },
      "execution_count": 11,
      "outputs": [
        {
          "output_type": "display_data",
          "data": {
            "text/plain": [
              "<Figure size 900x200 with 18 Axes>"
            ],
            "image/png": "[encoded data removed]"
          },
          "metadata": {}
        }
      ]
    }
  ]
}