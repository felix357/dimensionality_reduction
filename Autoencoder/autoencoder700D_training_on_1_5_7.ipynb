{
  "nbformat": 4,
  "nbformat_minor": 0,
  "metadata": {
    "colab": {
      "provenance": []
    },
    "kernelspec": {
      "name": "python3",
      "display_name": "Python 3"
    },
    "language_info": {
      "name": "python"
    }
  },
  "cells": [
    {
      "cell_type": "markdown",
      "source": [
        "import relevant libraries"
      ],
      "metadata": {
        "id": "84Sj8rHfE670"
      }
    },
    {
      "cell_type": "code",
      "execution_count": 12,
      "metadata": {
        "id": "lfkTZmjhEvxS"
      },
      "outputs": [],
      "source": [
        "import torch\n",
        "import torch.nn as nn\n",
        "import torch.optim as optim\n",
        "from torchvision import datasets, transforms\n",
        "import matplotlib.pyplot as plt\n",
        "from sklearn.metrics import accuracy_score, classification_report\n",
        "from sklearn.ensemble import RandomForestClassifier\n",
        "import numpy as np"
      ]
    },
    {
      "cell_type": "markdown",
      "source": [
        "Load Dataset"
      ],
      "metadata": {
        "id": "t8s6KZfSE9b3"
      }
    },
    {
      "cell_type": "code",
      "source": [
        "# Define a transform to convert images to tensors\n",
        "transform = transforms.ToTensor()\n",
        "\n",
        "# Load the MNIST dataset\n",
        "mnist_train_data = datasets.MNIST(root='./data', train=True, download=True, transform=transform)\n",
        "mnist_test_data = datasets.MNIST(root='./data', train=False, download=True, transform=transform)\n",
        "\n",
        "indices = (mnist_train_data.targets == 5) | (mnist_train_data.targets == 1) | (mnist_train_data.targets == 7)\n",
        "mnist_train_data.data, mnist_train_data.targets = mnist_train_data.data[indices], mnist_train_data.targets[indices]\n",
        "\n",
        "# Create data loaders to load the data in batches\n",
        "data_loader = torch.utils.data.DataLoader(dataset=mnist_train_data, batch_size=64, shuffle=True)\n",
        "data_loader_test = torch.utils.data.DataLoader(dataset=mnist_test_data, batch_size=10000, shuffle=False)"
      ],
      "metadata": {
        "id": "Qd1sEUGbE9or"
      },
      "execution_count": 13,
      "outputs": []
    },
    {
      "cell_type": "markdown",
      "source": [
        "Define Autoencoder"
      ],
      "metadata": {
        "id": "FJF7g3ecFB6c"
      }
    },
    {
      "cell_type": "code",
      "source": [
        "# This is the definition of the Autoencoder model using a neural network with encoder and decoder modules.\n",
        "class Autoencoder2(nn.Module):\n",
        "    def __init__(self):\n",
        "        super(Autoencoder2, self).__init__()\n",
        "        # N, 784\n",
        "        self.encoder = nn.Sequential(\n",
        "            nn.Linear(784, 740),\n",
        "            nn.ReLU(),\n",
        "            nn.Linear(740, 720),\n",
        "            nn.ReLU(),\n",
        "            nn.Linear(720, 700),\n",
        "        )\n",
        "\n",
        "        self.decoder = nn.Sequential(\n",
        "            nn.Linear(700, 720),\n",
        "            nn.ReLU(),\n",
        "            nn.Linear(720, 740),\n",
        "            nn.ReLU(),\n",
        "            nn.Linear(740, 784),\n",
        "            nn.Sigmoid()\n",
        "        )\n",
        "\n",
        "    def forward(self, x):\n",
        "        encoded = self.encoder(x)\n",
        "        decoded = self.decoder(encoded)\n",
        "        return decoded"
      ],
      "metadata": {
        "id": "H4AH1bQrFCFb"
      },
      "execution_count": 14,
      "outputs": []
    },
    {
      "cell_type": "markdown",
      "source": [
        "Train model"
      ],
      "metadata": {
        "id": "4TeksoOKFJbF"
      }
    },
    {
      "cell_type": "code",
      "source": [
        "# These lines define the loss function (MSE loss), instantiate the Autoencoder model\n",
        "# learning rate of 1e-3 and L2 regularization with a weight decay of 1e-5.\n",
        "criterion = nn.MSELoss()\n",
        "model = Autoencoder2()\n",
        "optimizer = optim.SGD(model.parameters(), lr=0.1, weight_decay=1e-10, momentum=0.9)\n",
        "\n",
        "# train the model over n epochs\n",
        "num_epochs = 100\n",
        "encPics = []\n",
        "labels = []\n",
        "outputs = []\n",
        "for epoch in range(num_epochs):\n",
        "    for (img, _) in data_loader:\n",
        "        img = img.reshape(-1, 28 * 28)\n",
        "        recon = model(img)\n",
        "        loss = criterion(recon, img)\n",
        "\n",
        "        optimizer.zero_grad()\n",
        "        loss.backward()\n",
        "        optimizer.step()\n",
        "\n",
        "    print(f'Epoch:{epoch + 1}, Loss:{loss.item():.4f}')\n",
        "    outputs.append((epoch, img, recon))"
      ],
      "metadata": {
        "colab": {
          "base_uri": "https://localhost:8080/"
        },
        "id": "61Yto7ztFJlr",
        "outputId": "3302ce62-b6c4-4454-f8f9-7d7bb8ee6b64"
      },
      "execution_count": 15,
      "outputs": [
        {
          "output_type": "stream",
          "name": "stdout",
          "text": [
            "Epoch:1, Loss:0.0581\n",
            "Epoch:2, Loss:0.0502\n",
            "Epoch:3, Loss:0.0535\n",
            "Epoch:4, Loss:0.0552\n",
            "Epoch:5, Loss:0.0528\n",
            "Epoch:6, Loss:0.0464\n",
            "Epoch:7, Loss:0.0513\n",
            "Epoch:8, Loss:0.0457\n",
            "Epoch:9, Loss:0.0461\n",
            "Epoch:10, Loss:0.0424\n",
            "Epoch:11, Loss:0.0425\n",
            "Epoch:12, Loss:0.0407\n",
            "Epoch:13, Loss:0.0391\n",
            "Epoch:14, Loss:0.0369\n",
            "Epoch:15, Loss:0.0323\n",
            "Epoch:16, Loss:0.0393\n",
            "Epoch:17, Loss:0.0369\n",
            "Epoch:18, Loss:0.0346\n",
            "Epoch:19, Loss:0.0326\n",
            "Epoch:20, Loss:0.0328\n",
            "Epoch:21, Loss:0.0332\n",
            "Epoch:22, Loss:0.0247\n",
            "Epoch:23, Loss:0.0271\n",
            "Epoch:24, Loss:0.0248\n",
            "Epoch:25, Loss:0.0257\n",
            "Epoch:26, Loss:0.0276\n",
            "Epoch:27, Loss:0.0195\n",
            "Epoch:28, Loss:0.0219\n",
            "Epoch:29, Loss:0.0226\n",
            "Epoch:30, Loss:0.0233\n",
            "Epoch:31, Loss:0.0217\n",
            "Epoch:32, Loss:0.0235\n",
            "Epoch:33, Loss:0.0210\n",
            "Epoch:34, Loss:0.0202\n",
            "Epoch:35, Loss:0.0219\n",
            "Epoch:36, Loss:0.0205\n",
            "Epoch:37, Loss:0.0226\n",
            "Epoch:38, Loss:0.0178\n",
            "Epoch:39, Loss:0.0201\n",
            "Epoch:40, Loss:0.0214\n",
            "Epoch:41, Loss:0.0193\n",
            "Epoch:42, Loss:0.0162\n",
            "Epoch:43, Loss:0.0196\n",
            "Epoch:44, Loss:0.0180\n",
            "Epoch:45, Loss:0.0205\n",
            "Epoch:46, Loss:0.0199\n",
            "Epoch:47, Loss:0.0188\n",
            "Epoch:48, Loss:0.0197\n",
            "Epoch:49, Loss:0.0203\n",
            "Epoch:50, Loss:0.0195\n",
            "Epoch:51, Loss:0.0186\n",
            "Epoch:52, Loss:0.0197\n",
            "Epoch:53, Loss:0.0156\n",
            "Epoch:54, Loss:0.0180\n",
            "Epoch:55, Loss:0.0154\n",
            "Epoch:56, Loss:0.0179\n",
            "Epoch:57, Loss:0.0151\n",
            "Epoch:58, Loss:0.0195\n",
            "Epoch:59, Loss:0.0150\n",
            "Epoch:60, Loss:0.0163\n",
            "Epoch:61, Loss:0.0183\n",
            "Epoch:62, Loss:0.0174\n",
            "Epoch:63, Loss:0.0160\n",
            "Epoch:64, Loss:0.0165\n",
            "Epoch:65, Loss:0.0171\n",
            "Epoch:66, Loss:0.0161\n",
            "Epoch:67, Loss:0.0168\n",
            "Epoch:68, Loss:0.0137\n",
            "Epoch:69, Loss:0.0161\n",
            "Epoch:70, Loss:0.0173\n",
            "Epoch:71, Loss:0.0132\n",
            "Epoch:72, Loss:0.0136\n",
            "Epoch:73, Loss:0.0164\n",
            "Epoch:74, Loss:0.0127\n",
            "Epoch:75, Loss:0.0153\n",
            "Epoch:76, Loss:0.0161\n",
            "Epoch:77, Loss:0.0145\n",
            "Epoch:78, Loss:0.0116\n",
            "Epoch:79, Loss:0.0127\n",
            "Epoch:80, Loss:0.0112\n",
            "Epoch:81, Loss:0.0134\n",
            "Epoch:82, Loss:0.0163\n",
            "Epoch:83, Loss:0.0154\n",
            "Epoch:84, Loss:0.0130\n",
            "Epoch:85, Loss:0.0121\n",
            "Epoch:86, Loss:0.0144\n",
            "Epoch:87, Loss:0.0117\n",
            "Epoch:88, Loss:0.0162\n",
            "Epoch:89, Loss:0.0130\n",
            "Epoch:90, Loss:0.0120\n",
            "Epoch:91, Loss:0.0124\n",
            "Epoch:92, Loss:0.0137\n",
            "Epoch:93, Loss:0.0137\n",
            "Epoch:94, Loss:0.0140\n",
            "Epoch:95, Loss:0.0124\n",
            "Epoch:96, Loss:0.0122\n",
            "Epoch:97, Loss:0.0121\n",
            "Epoch:98, Loss:0.0111\n",
            "Epoch:99, Loss:0.0142\n",
            "Epoch:100, Loss:0.0139\n"
          ]
        }
      ]
    },
    {
      "cell_type": "markdown",
      "source": [
        "Run Random Forest Classifier on encoded data"
      ],
      "metadata": {
        "id": "WT120viwFQ6s"
      }
    },
    {
      "cell_type": "code",
      "source": [
        "for (img, l) in data_loader_test:\n",
        "    item = img.reshape(-1, 28 * 28)\n",
        "    enc = model.encoder(item)\n",
        "    enc = enc.detach().numpy()\n",
        "    l = l.detach().numpy()\n",
        "    encPics.append(enc)\n",
        "    labels.append(l)\n",
        "\n",
        "rf = RandomForestClassifier(n_estimators=266, max_depth=11)\n",
        "encPics = np.reshape(encPics, (-1, 700))\n",
        "labels = np.reshape(labels, (-1, 1))\n",
        "labels = labels.ravel()\n",
        "rf.fit(encPics, labels)\n",
        "y_pred_1 = rf.predict(encPics)\n",
        "\n",
        "accscore = accuracy_score(labels, y_pred_1, normalize=True)\n",
        "print(accscore)\n",
        "\n",
        "print(classification_report(labels, y_pred_1))"
      ],
      "metadata": {
        "colab": {
          "base_uri": "https://localhost:8080/"
        },
        "id": "3RCAaWIMFSNb",
        "outputId": "5ba1032f-8786-481f-c009-975ce635b1f9"
      },
      "execution_count": 16,
      "outputs": [
        {
          "output_type": "stream",
          "name": "stdout",
          "text": [
            "0.9635\n",
            "              precision    recall  f1-score   support\n",
            "\n",
            "           0       0.96      0.98      0.97       980\n",
            "           1       1.00      1.00      1.00      1135\n",
            "           2       0.99      0.97      0.98      1032\n",
            "           3       0.91      0.94      0.92      1010\n",
            "           4       0.96      0.96      0.96       982\n",
            "           5       1.00      0.94      0.97       892\n",
            "           6       0.97      0.99      0.98       958\n",
            "           7       0.99      0.97      0.98      1028\n",
            "           8       0.93      0.92      0.93       974\n",
            "           9       0.93      0.96      0.94      1009\n",
            "\n",
            "    accuracy                           0.96     10000\n",
            "   macro avg       0.96      0.96      0.96     10000\n",
            "weighted avg       0.96      0.96      0.96     10000\n",
            "\n"
          ]
        }
      ]
    },
    {
      "cell_type": "markdown",
      "source": [
        "Plot the reconstructed pictures"
      ],
      "metadata": {
        "id": "GxeG0-yqFXjF"
      }
    },
    {
      "cell_type": "code",
      "source": [
        "# Plot the resulting images\n",
        "#for k in range(0, num_epochs, 10):\n",
        "plt.figure(figsize=(9, 2))\n",
        "plt.gray()\n",
        "\n",
        "reconPics = []\n",
        "imgs = []\n",
        "for (img, _) in data_loader_test:\n",
        "    item = img.reshape(-1, 28 * 28)\n",
        "    recon = model(item)\n",
        "    reconPics = recon\n",
        "    imgs = img\n",
        "\n",
        "for i, item in enumerate(imgs):\n",
        "    if i >= 9: break\n",
        "    plt.subplot(2, 9, i + 1)\n",
        "    item = item.reshape(-1, 28, 28)\n",
        "    plt.imshow(item[0])\n",
        "\n",
        "for i, item in enumerate(reconPics):\n",
        "    if i >= 9: break\n",
        "    plt.subplot(2, 9, 9 + i + 1)\n",
        "    item = item.reshape(-1, 28, 28)\n",
        "    plt.imshow((item.detach().numpy())[0])\n",
        "\n",
        "plt.show()"
      ],
      "metadata": {
        "colab": {
          "base_uri": "https://localhost:8080/",
          "height": 214
        },
        "id": "LhS5u4zlFXtB",
        "outputId": "7b7d8a59-3d1a-4aa7-b38f-3ec4cc03e928"
      },
      "execution_count": 17,
      "outputs": [
        {
          "output_type": "display_data",
          "data": {
            "text/plain": [
              "<Figure size 900x200 with 18 Axes>"
            ],
            "image/png": "[encoded data removed]"
          },
          "metadata": {}
        }
      ]
    }
  ]
}