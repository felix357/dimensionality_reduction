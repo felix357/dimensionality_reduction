{
  "nbformat": 4,
  "nbformat_minor": 0,
  "metadata": {
    "colab": {
      "provenance": []
    },
    "kernelspec": {
      "name": "python3",
      "display_name": "Python 3"
    },
    "language_info": {
      "name": "python"
    }
  },
  "cells": [
    {
      "cell_type": "markdown",
      "source": [
        "import relevant libraries"
      ],
      "metadata": {
        "id": "lZKmTjyrAhxi"
      }
    },
    {
      "cell_type": "code",
      "execution_count": 1,
      "metadata": {
        "id": "xXZnMrlcAZge"
      },
      "outputs": [],
      "source": [
        "import torch\n",
        "import torch.nn as nn\n",
        "import torch.optim as optim\n",
        "from torchvision import datasets, transforms\n",
        "import matplotlib.pyplot as plt\n",
        "from sklearn.metrics import accuracy_score, classification_report\n",
        "from sklearn.ensemble import RandomForestClassifier\n",
        "import numpy as np"
      ]
    },
    {
      "cell_type": "markdown",
      "source": [
        "Load Dataset"
      ],
      "metadata": {
        "id": "8EENiavKDbAO"
      }
    },
    {
      "cell_type": "code",
      "source": [
        "# Define a transform to convert images to tensors\n",
        "transform = transforms.ToTensor()\n",
        "\n",
        "# Load the MNIST dataset\n",
        "mnist_train_data = datasets.MNIST(root='./data', train=True, download=True, transform=transform)\n",
        "mnist_test_data = datasets.MNIST(root='./data', train=False, download=True, transform=transform)\n",
        "\n",
        "indices = (mnist_train_data.targets == 5) | (mnist_train_data.targets == 1) | (mnist_train_data.targets == 7)\n",
        "mnist_train_data.data, mnist_train_data.targets = mnist_train_data.data[indices], mnist_train_data.targets[indices]\n",
        "\n",
        "# Create data loaders to load the data in batches\n",
        "data_loader = torch.utils.data.DataLoader(dataset=mnist_train_data, batch_size=64, shuffle=True)\n",
        "data_loader_test = torch.utils.data.DataLoader(dataset=mnist_test_data, batch_size=10000, shuffle=False)"
      ],
      "metadata": {
        "colab": {
          "base_uri": "https://localhost:8080/"
        },
        "id": "i4A-tWc2AoAr",
        "outputId": "25f88f53-6f39-4cfc-b166-1af9282c5839"
      },
      "execution_count": 2,
      "outputs": [
        {
          "output_type": "stream",
          "name": "stdout",
          "text": [
            "Downloading http://yann.lecun.com/exdb/mnist/train-images-idx3-ubyte.gz\n",
            "Downloading http://yann.lecun.com/exdb/mnist/train-images-idx3-ubyte.gz to ./data/MNIST/raw/train-images-idx3-ubyte.gz\n"
          ]
        },
        {
          "output_type": "stream",
          "name": "stderr",
          "text": [
            "100%|██████████| 9912422/9912422 [00:00<00:00, 174495038.02it/s]"
          ]
        },
        {
          "output_type": "stream",
          "name": "stdout",
          "text": [
            "Extracting ./data/MNIST/raw/train-images-idx3-ubyte.gz to ./data/MNIST/raw\n"
          ]
        },
        {
          "output_type": "stream",
          "name": "stderr",
          "text": [
            "\n"
          ]
        },
        {
          "output_type": "stream",
          "name": "stdout",
          "text": [
            "\n",
            "Downloading http://yann.lecun.com/exdb/mnist/train-labels-idx1-ubyte.gz\n",
            "Downloading http://yann.lecun.com/exdb/mnist/train-labels-idx1-ubyte.gz to ./data/MNIST/raw/train-labels-idx1-ubyte.gz\n"
          ]
        },
        {
          "output_type": "stream",
          "name": "stderr",
          "text": [
            "100%|██████████| 28881/28881 [00:00<00:00, 28650826.35it/s]\n"
          ]
        },
        {
          "output_type": "stream",
          "name": "stdout",
          "text": [
            "Extracting ./data/MNIST/raw/train-labels-idx1-ubyte.gz to ./data/MNIST/raw\n",
            "\n",
            "Downloading http://yann.lecun.com/exdb/mnist/t10k-images-idx3-ubyte.gz\n",
            "Downloading http://yann.lecun.com/exdb/mnist/t10k-images-idx3-ubyte.gz to ./data/MNIST/raw/t10k-images-idx3-ubyte.gz\n"
          ]
        },
        {
          "output_type": "stream",
          "name": "stderr",
          "text": [
            "100%|██████████| 1648877/1648877 [00:00<00:00, 156461051.46it/s]"
          ]
        },
        {
          "output_type": "stream",
          "name": "stdout",
          "text": [
            "Extracting ./data/MNIST/raw/t10k-images-idx3-ubyte.gz to ./data/MNIST/raw\n"
          ]
        },
        {
          "output_type": "stream",
          "name": "stderr",
          "text": [
            "\n"
          ]
        },
        {
          "output_type": "stream",
          "name": "stdout",
          "text": [
            "\n",
            "Downloading http://yann.lecun.com/exdb/mnist/t10k-labels-idx1-ubyte.gz\n",
            "Downloading http://yann.lecun.com/exdb/mnist/t10k-labels-idx1-ubyte.gz to ./data/MNIST/raw/t10k-labels-idx1-ubyte.gz\n"
          ]
        },
        {
          "output_type": "stream",
          "name": "stderr",
          "text": [
            "100%|██████████| 4542/4542 [00:00<00:00, 2309714.93it/s]"
          ]
        },
        {
          "output_type": "stream",
          "name": "stdout",
          "text": [
            "Extracting ./data/MNIST/raw/t10k-labels-idx1-ubyte.gz to ./data/MNIST/raw\n",
            "\n"
          ]
        },
        {
          "output_type": "stream",
          "name": "stderr",
          "text": [
            "\n"
          ]
        }
      ]
    },
    {
      "cell_type": "markdown",
      "source": [
        "Define Autoencoder"
      ],
      "metadata": {
        "id": "Wlc_SIB8Dbnm"
      }
    },
    {
      "cell_type": "code",
      "source": [
        "# This is the definition of the Autoencoder model using a neural network with encoder and decoder modules.\n",
        "class Autoencoder2(nn.Module):\n",
        "    def __init__(self):\n",
        "        super(Autoencoder2, self).__init__()\n",
        "        # N, 784\n",
        "        self.encoder = nn.Sequential(\n",
        "            nn.Linear(784, 392),\n",
        "            nn.ReLU(),\n",
        "            nn.Linear(392, 196),\n",
        "            nn.ReLU(),\n",
        "            nn.Linear(196, 98),\n",
        "            nn.ReLU(),\n",
        "            nn.Linear(98, 49),\n",
        "            nn.ReLU(),\n",
        "            nn.Linear(49, 16),\n",
        "            nn.ReLU(),\n",
        "            nn.Linear(16, 2)\n",
        "        )\n",
        "\n",
        "        self.decoder = nn.Sequential(\n",
        "            nn.Linear(2, 16),\n",
        "            nn.ReLU(),\n",
        "            nn.Linear(16, 49),\n",
        "            nn.ReLU(),\n",
        "            nn.Linear(49, 98),\n",
        "            nn.ReLU(),\n",
        "            nn.Linear(98, 196),\n",
        "            nn.ReLU(),\n",
        "            nn.Linear(196, 392),\n",
        "            nn.ReLU(),\n",
        "            nn.Linear(392, 784),\n",
        "            nn.Sigmoid()\n",
        "        )\n",
        "\n",
        "    def forward(self, x):\n",
        "        encoded = self.encoder(x)\n",
        "        decoded = self.decoder(encoded)\n",
        "        return decoded"
      ],
      "metadata": {
        "id": "cNsmZ2b6Ao_O"
      },
      "execution_count": 3,
      "outputs": []
    },
    {
      "cell_type": "markdown",
      "source": [
        "Train model"
      ],
      "metadata": {
        "id": "wtH4i0DlDc-g"
      }
    },
    {
      "cell_type": "code",
      "source": [
        "# These lines define the loss function (MSE loss), instantiate the Autoencoder model\n",
        "# learning rate of 1e-3 and L2 regularization with a weight decay of 1e-5.\n",
        "criterion = nn.MSELoss()\n",
        "model = Autoencoder2()\n",
        "optimizer = optim.SGD(model.parameters(), lr=0.1, weight_decay=1e-10, momentum=0.9)\n",
        "\n",
        "# train the model over n epochs\n",
        "num_epochs = 100\n",
        "encPics = []\n",
        "labels = []\n",
        "outputs = []\n",
        "for epoch in range(num_epochs):\n",
        "    for (img, _) in data_loader:\n",
        "        img = img.reshape(-1, 28 * 28)\n",
        "        recon = model(img)\n",
        "        loss = criterion(recon, img)\n",
        "\n",
        "        optimizer.zero_grad()\n",
        "        loss.backward()\n",
        "        optimizer.step()\n",
        "\n",
        "    print(f'Epoch:{epoch + 1}, Loss:{loss.item():.4f}')\n",
        "    outputs.append((epoch, img, recon))"
      ],
      "metadata": {
        "colab": {
          "base_uri": "https://localhost:8080/"
        },
        "id": "OcgRkYGiAtF1",
        "outputId": "97abd48b-a8b5-4e2d-efc1-007f17697db1"
      },
      "execution_count": 4,
      "outputs": [
        {
          "output_type": "stream",
          "name": "stdout",
          "text": [
            "Epoch:1, Loss:0.0495\n",
            "Epoch:2, Loss:0.0546\n",
            "Epoch:3, Loss:0.0550\n",
            "Epoch:4, Loss:0.0530\n",
            "Epoch:5, Loss:0.0560\n",
            "Epoch:6, Loss:0.0520\n",
            "Epoch:7, Loss:0.0548\n",
            "Epoch:8, Loss:0.0575\n",
            "Epoch:9, Loss:0.0588\n",
            "Epoch:10, Loss:0.0549\n",
            "Epoch:11, Loss:0.0509\n",
            "Epoch:12, Loss:0.0559\n",
            "Epoch:13, Loss:0.0590\n",
            "Epoch:14, Loss:0.0531\n",
            "Epoch:15, Loss:0.0519\n",
            "Epoch:16, Loss:0.0487\n",
            "Epoch:17, Loss:0.0487\n",
            "Epoch:18, Loss:0.0534\n",
            "Epoch:19, Loss:0.0495\n",
            "Epoch:20, Loss:0.0479\n",
            "Epoch:21, Loss:0.0482\n",
            "Epoch:22, Loss:0.0488\n",
            "Epoch:23, Loss:0.0478\n",
            "Epoch:24, Loss:0.0495\n",
            "Epoch:25, Loss:0.0513\n",
            "Epoch:26, Loss:0.0472\n",
            "Epoch:27, Loss:0.0439\n",
            "Epoch:28, Loss:0.0413\n",
            "Epoch:29, Loss:0.0477\n",
            "Epoch:30, Loss:0.0456\n",
            "Epoch:31, Loss:0.0433\n",
            "Epoch:32, Loss:0.0468\n",
            "Epoch:33, Loss:0.0437\n",
            "Epoch:34, Loss:0.0405\n",
            "Epoch:35, Loss:0.0460\n",
            "Epoch:36, Loss:0.0381\n",
            "Epoch:37, Loss:0.0425\n",
            "Epoch:38, Loss:0.0412\n",
            "Epoch:39, Loss:0.0386\n",
            "Epoch:40, Loss:0.0423\n",
            "Epoch:41, Loss:0.0405\n",
            "Epoch:42, Loss:0.0382\n",
            "Epoch:43, Loss:0.0393\n",
            "Epoch:44, Loss:0.0333\n",
            "Epoch:45, Loss:0.0407\n",
            "Epoch:46, Loss:0.0373\n",
            "Epoch:47, Loss:0.0295\n",
            "Epoch:48, Loss:0.0393\n",
            "Epoch:49, Loss:0.0341\n",
            "Epoch:50, Loss:0.0316\n",
            "Epoch:51, Loss:0.0385\n",
            "Epoch:52, Loss:0.0389\n",
            "Epoch:53, Loss:0.0400\n",
            "Epoch:54, Loss:0.0360\n",
            "Epoch:55, Loss:0.0314\n",
            "Epoch:56, Loss:0.0340\n",
            "Epoch:57, Loss:0.0361\n",
            "Epoch:58, Loss:0.0348\n",
            "Epoch:59, Loss:0.0300\n",
            "Epoch:60, Loss:0.0332\n",
            "Epoch:61, Loss:0.0323\n",
            "Epoch:62, Loss:0.0292\n",
            "Epoch:63, Loss:0.0336\n",
            "Epoch:64, Loss:0.0309\n",
            "Epoch:65, Loss:0.0337\n",
            "Epoch:66, Loss:0.0331\n",
            "Epoch:67, Loss:0.0326\n",
            "Epoch:68, Loss:0.0295\n",
            "Epoch:69, Loss:0.0291\n",
            "Epoch:70, Loss:0.0302\n",
            "Epoch:71, Loss:0.0289\n",
            "Epoch:72, Loss:0.0320\n",
            "Epoch:73, Loss:0.0350\n",
            "Epoch:74, Loss:0.0300\n",
            "Epoch:75, Loss:0.0272\n",
            "Epoch:76, Loss:0.0327\n",
            "Epoch:77, Loss:0.0339\n",
            "Epoch:78, Loss:0.0287\n",
            "Epoch:79, Loss:0.0265\n",
            "Epoch:80, Loss:0.0271\n",
            "Epoch:81, Loss:0.0264\n",
            "Epoch:82, Loss:0.0276\n",
            "Epoch:83, Loss:0.0295\n",
            "Epoch:84, Loss:0.0263\n",
            "Epoch:85, Loss:0.0269\n",
            "Epoch:86, Loss:0.0262\n",
            "Epoch:87, Loss:0.0319\n",
            "Epoch:88, Loss:0.0301\n",
            "Epoch:89, Loss:0.0265\n",
            "Epoch:90, Loss:0.0267\n",
            "Epoch:91, Loss:0.0288\n",
            "Epoch:92, Loss:0.0279\n",
            "Epoch:93, Loss:0.0287\n",
            "Epoch:94, Loss:0.0281\n",
            "Epoch:95, Loss:0.0299\n",
            "Epoch:96, Loss:0.0263\n",
            "Epoch:97, Loss:0.0247\n",
            "Epoch:98, Loss:0.0282\n",
            "Epoch:99, Loss:0.0268\n",
            "Epoch:100, Loss:0.0309\n"
          ]
        }
      ]
    },
    {
      "cell_type": "markdown",
      "source": [
        "Run Random Forest Classifier on encoded data"
      ],
      "metadata": {
        "id": "_oi-E3TMDd-v"
      }
    },
    {
      "cell_type": "code",
      "source": [
        "for (img, l) in data_loader_test:\n",
        "    item = img.reshape(-1, 28 * 28)\n",
        "    enc = model.encoder(item)\n",
        "    enc = enc.detach().numpy()\n",
        "    l = l.detach().numpy()\n",
        "    encPics.append(enc)\n",
        "    labels.append(l)\n",
        "\n",
        "rf = RandomForestClassifier(n_estimators=266, max_depth=11)\n",
        "encPics = np.reshape(encPics, (-1, 2))\n",
        "labels = np.reshape(labels, (-1, 1))\n",
        "labels = labels.ravel()\n",
        "rf.fit(encPics, labels)\n",
        "y_pred_1 = rf.predict(encPics)\n",
        "\n",
        "accscore = accuracy_score(labels, y_pred_1, normalize=True)\n",
        "print(accscore)\n",
        "\n",
        "print(classification_report(labels, y_pred_1))"
      ],
      "metadata": {
        "colab": {
          "base_uri": "https://localhost:8080/"
        },
        "id": "Osy8afSSAztO",
        "outputId": "a2db38ac-a478-49d8-f3b6-c1089bb48c43"
      },
      "execution_count": 5,
      "outputs": [
        {
          "output_type": "stream",
          "name": "stdout",
          "text": [
            "0.6206\n",
            "              precision    recall  f1-score   support\n",
            "\n",
            "           0       0.54      0.81      0.65       980\n",
            "           1       0.89      0.99      0.94      1135\n",
            "           2       0.56      0.52      0.54      1032\n",
            "           3       0.54      0.56      0.55      1010\n",
            "           4       0.57      0.56      0.56       982\n",
            "           5       0.70      0.50      0.58       892\n",
            "           6       0.65      0.39      0.49       958\n",
            "           7       0.51      0.81      0.63      1028\n",
            "           8       0.67      0.44      0.54       974\n",
            "           9       0.68      0.54      0.60      1009\n",
            "\n",
            "    accuracy                           0.62     10000\n",
            "   macro avg       0.63      0.61      0.61     10000\n",
            "weighted avg       0.63      0.62      0.61     10000\n",
            "\n"
          ]
        }
      ]
    },
    {
      "cell_type": "markdown",
      "source": [
        "Plot the reconstructed pictures"
      ],
      "metadata": {
        "id": "MSlsj9HtDfUV"
      }
    },
    {
      "cell_type": "code",
      "source": [
        "# Plot the resulting images\n",
        "#for k in range(0, num_epochs, 10):\n",
        "plt.figure(figsize=(9, 2))\n",
        "plt.gray()\n",
        "\n",
        "reconPics = []\n",
        "imgs = []\n",
        "for (img, _) in data_loader_test:\n",
        "    item = img.reshape(-1, 28 * 28)\n",
        "    recon = model(item)\n",
        "    reconPics = recon\n",
        "    imgs = img\n",
        "\n",
        "for i, item in enumerate(imgs):\n",
        "    if i >= 9: break\n",
        "    plt.subplot(2, 9, i + 1)\n",
        "    item = item.reshape(-1, 28, 28)\n",
        "    plt.imshow(item[0])\n",
        "\n",
        "for i, item in enumerate(reconPics):\n",
        "    if i >= 9: break\n",
        "    plt.subplot(2, 9, 9 + i + 1)\n",
        "    item = item.reshape(-1, 28, 28)\n",
        "    plt.imshow((item.detach().numpy())[0])\n",
        "\n",
        "plt.show()"
      ],
      "metadata": {
        "colab": {
          "base_uri": "https://localhost:8080/",
          "height": 214
        },
        "id": "7Q9hjmElBF_L",
        "outputId": "a8b6e20b-5726-4f71-f499-8054ecf0c7dd"
      },
      "execution_count": 6,
      "outputs": [
        {
          "output_type": "display_data",
          "data": {
            "text/plain": [
              "<Figure size 900x200 with 18 Axes>"
            ],
            "image/png": "[encoded data removed]"
          },
          "metadata": {}
        }
      ]
    }
  ]
}