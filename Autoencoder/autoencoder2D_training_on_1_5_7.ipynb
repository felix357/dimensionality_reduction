{
  "nbformat": 4,
  "nbformat_minor": 0,
  "metadata": {
    "colab": {
      "provenance": []
    },
    "kernelspec": {
      "name": "python3",
      "display_name": "Python 3"
    },
    "language_info": {
      "name": "python"
    }
  },
  "cells": [
    {
      "cell_type": "markdown",
      "source": [
        "import relevant libraries"
      ],
      "metadata": {
        "id": "Bbb7d23DVc6T"
      }
    },
    {
      "cell_type": "code",
      "source": [
        "import torch\n",
        "import torch.nn as nn\n",
        "import torch.optim as optim\n",
        "from torchvision import datasets, transforms\n",
        "import matplotlib.pyplot as plt\n",
        "from sklearn.decomposition import PCA\n",
        "import matplotlib.pyplot as plt\n",
        "from sklearn.metrics import accuracy_score\n",
        "from sklearn.random_projection import GaussianRandomProjection\n",
        "from sklearn.ensemble import RandomForestClassifier\n",
        "from numpy import reshape\n",
        "from sklearn.preprocessing import StandardScaler\n",
        "from keras.datasets import mnist\n",
        "\n",
        "# Define a transform to convert images to tensors\n",
        "transform = transforms.ToTensor()\n",
        "\n",
        "# Load the MNIST dataset\n",
        "mnist_train_data = datasets.MNIST(root='./data', train=True, download=True, transform=transform)\n",
        "mnist_test_data = datasets.MNIST(root='./data', train=False, download=True, transform=transform)\n",
        "\n",
        "indices = (mnist_train_data.targets == 5) | (mnist_train_data.targets == 1) | (mnist_train_data.targets == 7)\n",
        "mnist_train_data.data, mnist_train_data.targets = mnist_train_data.data[indices], mnist_train_data.targets[indices]\n",
        "\n",
        "# Create data loaders to load the data in batches\n",
        "data_loader = torch.utils.data.DataLoader(dataset=mnist_train_data, batch_size=64, shuffle=True)\n",
        "data_loader_test = torch.utils.data.DataLoader(dataset=mnist_test_data, batch_size=10000, shuffle=False)"
      ],
      "metadata": {
        "id": "NvGsQDaSSPEA"
      },
      "execution_count": 14,
      "outputs": []
    },
    {
      "cell_type": "markdown",
      "source": [],
      "metadata": {
        "id": "oychwMSyVko7"
      }
    },
    {
      "cell_type": "code",
      "source": [
        "# This is the definition of the Autoencoder model using a neural network with encoder and decoder modules.\n",
        "class Autoencoder2(nn.Module):\n",
        "    def __init__(self):\n",
        "        super(Autoencoder2, self).__init__()\n",
        "        # N, 784\n",
        "        self.encoder = nn.Sequential(\n",
        "            nn.Linear(784, 392),\n",
        "            nn.ReLU(),\n",
        "            nn.Linear(392, 196),\n",
        "            nn.ReLU(),\n",
        "            nn.Linear(196, 98),\n",
        "            nn.ReLU(),\n",
        "            nn.Linear(98, 49),\n",
        "            nn.ReLU(),\n",
        "            nn.Linear(49, 16),\n",
        "            nn.ReLU(),\n",
        "            nn.Linear(16, 2)\n",
        "        )\n",
        "\n",
        "        self.decoder = nn.Sequential(\n",
        "            nn.Linear(2, 16),\n",
        "            nn.ReLU(),\n",
        "            nn.Linear(16, 49),\n",
        "            nn.ReLU(),\n",
        "            nn.Linear(49, 98),\n",
        "            nn.ReLU(),\n",
        "            nn.Linear(98, 196),\n",
        "            nn.ReLU(),\n",
        "            nn.Linear(196, 392),\n",
        "            nn.ReLU(),\n",
        "            nn.Linear(392, 784),\n",
        "            nn.Sigmoid()\n",
        "        )\n",
        "\n",
        "    def forward(self, x):\n",
        "        encoded = self.encoder(x)\n",
        "        decoded = self.decoder(encoded)\n",
        "        return decoded\n",
        "     "
      ],
      "metadata": {
        "id": "4zzk5Qd0SSdA"
      },
      "execution_count": 15,
      "outputs": []
    },
    {
      "cell_type": "code",
      "source": [
        "# These lines define the loss function (MSE loss), instantiate the Autoencoder model\n",
        "# learning rate of 1e-3 and L2 regularization with a weight decay of 1e-5.\n",
        "criterion = nn.MSELoss()\n",
        "model = Autoencoder2()\n",
        "optimizer = optim.SGD(model.parameters(), lr=0.1, weight_decay=1e-10, momentum=0.9)"
      ],
      "metadata": {
        "id": "u9fzaIkWSWTg"
      },
      "execution_count": 16,
      "outputs": []
    },
    {
      "cell_type": "code",
      "source": [
        "# train the model over n epochs\n",
        "num_epochs = 100\n",
        "encPics = []\n",
        "labels = []\n",
        "for epoch in range(num_epochs):\n",
        "    for (img, _) in data_loader:\n",
        "        img = img.reshape(-1, 28 * 28)\n",
        "        recon = model(img)\n",
        "        loss = criterion(recon, img)\n",
        "\n",
        "        optimizer.zero_grad()\n",
        "        loss.backward()\n",
        "        optimizer.step()\n",
        "\n",
        "    print(f'Epoch:{epoch + 1}, Loss:{loss.item():.4f}')"
      ],
      "metadata": {
        "colab": {
          "base_uri": "https://localhost:8080/"
        },
        "id": "8Rg116-HSYEL",
        "outputId": "c5f70d37-defd-4100-9e3c-b4211752e2cc"
      },
      "execution_count": 17,
      "outputs": [
        {
          "output_type": "stream",
          "name": "stdout",
          "text": [
            "Epoch:1, Loss:0.0586\n",
            "Epoch:2, Loss:0.0584\n",
            "Epoch:3, Loss:0.0549\n",
            "Epoch:4, Loss:0.0564\n",
            "Epoch:5, Loss:0.0534\n",
            "Epoch:6, Loss:0.0543\n",
            "Epoch:7, Loss:0.0573\n",
            "Epoch:8, Loss:0.0549\n",
            "Epoch:9, Loss:0.0504\n",
            "Epoch:10, Loss:0.0531\n",
            "Epoch:11, Loss:0.0559\n",
            "Epoch:12, Loss:0.0542\n",
            "Epoch:13, Loss:0.0563\n",
            "Epoch:14, Loss:0.0553\n",
            "Epoch:15, Loss:0.0495\n",
            "Epoch:16, Loss:0.0529\n",
            "Epoch:17, Loss:0.0543\n",
            "Epoch:18, Loss:0.0510\n",
            "Epoch:19, Loss:0.0492\n",
            "Epoch:20, Loss:0.0491\n",
            "Epoch:21, Loss:0.0445\n",
            "Epoch:22, Loss:0.0495\n",
            "Epoch:23, Loss:0.0489\n",
            "Epoch:24, Loss:0.0440\n",
            "Epoch:25, Loss:0.0462\n",
            "Epoch:26, Loss:0.0458\n",
            "Epoch:27, Loss:0.0485\n",
            "Epoch:28, Loss:0.0488\n",
            "Epoch:29, Loss:0.0438\n",
            "Epoch:30, Loss:0.0436\n",
            "Epoch:31, Loss:0.0442\n",
            "Epoch:32, Loss:0.0440\n",
            "Epoch:33, Loss:0.0474\n",
            "Epoch:34, Loss:0.0440\n",
            "Epoch:35, Loss:0.0440\n",
            "Epoch:36, Loss:0.0444\n",
            "Epoch:37, Loss:0.0403\n",
            "Epoch:38, Loss:0.0443\n",
            "Epoch:39, Loss:0.0381\n",
            "Epoch:40, Loss:0.0384\n",
            "Epoch:41, Loss:0.0366\n",
            "Epoch:42, Loss:0.0411\n",
            "Epoch:43, Loss:0.0430\n",
            "Epoch:44, Loss:0.0390\n",
            "Epoch:45, Loss:0.0415\n",
            "Epoch:46, Loss:0.0404\n",
            "Epoch:47, Loss:0.0341\n",
            "Epoch:48, Loss:0.0391\n",
            "Epoch:49, Loss:0.0349\n",
            "Epoch:50, Loss:0.0430\n",
            "Epoch:51, Loss:0.0362\n",
            "Epoch:52, Loss:0.0353\n",
            "Epoch:53, Loss:0.0391\n",
            "Epoch:54, Loss:0.0366\n",
            "Epoch:55, Loss:0.0395\n",
            "Epoch:56, Loss:0.0348\n",
            "Epoch:57, Loss:0.0380\n",
            "Epoch:58, Loss:0.0389\n",
            "Epoch:59, Loss:0.0312\n",
            "Epoch:60, Loss:0.0334\n",
            "Epoch:61, Loss:0.0395\n",
            "Epoch:62, Loss:0.0352\n",
            "Epoch:63, Loss:0.0376\n",
            "Epoch:64, Loss:0.0354\n",
            "Epoch:65, Loss:0.0316\n",
            "Epoch:66, Loss:0.0300\n",
            "Epoch:67, Loss:0.0372\n",
            "Epoch:68, Loss:0.0334\n",
            "Epoch:69, Loss:0.0376\n",
            "Epoch:70, Loss:0.0310\n",
            "Epoch:71, Loss:0.0338\n",
            "Epoch:72, Loss:0.0327\n",
            "Epoch:73, Loss:0.0334\n",
            "Epoch:74, Loss:0.0286\n",
            "Epoch:75, Loss:0.0327\n",
            "Epoch:76, Loss:0.0323\n",
            "Epoch:77, Loss:0.0326\n",
            "Epoch:78, Loss:0.0266\n",
            "Epoch:79, Loss:0.0325\n",
            "Epoch:80, Loss:0.0332\n",
            "Epoch:81, Loss:0.0328\n",
            "Epoch:82, Loss:0.0329\n",
            "Epoch:83, Loss:0.0326\n",
            "Epoch:84, Loss:0.0266\n",
            "Epoch:85, Loss:0.0268\n",
            "Epoch:86, Loss:0.0299\n",
            "Epoch:87, Loss:0.0347\n",
            "Epoch:88, Loss:0.0290\n",
            "Epoch:89, Loss:0.0305\n",
            "Epoch:90, Loss:0.0265\n",
            "Epoch:91, Loss:0.0286\n",
            "Epoch:92, Loss:0.0325\n",
            "Epoch:93, Loss:0.0279\n",
            "Epoch:94, Loss:0.0274\n",
            "Epoch:95, Loss:0.0263\n",
            "Epoch:96, Loss:0.0294\n",
            "Epoch:97, Loss:0.0236\n",
            "Epoch:98, Loss:0.0244\n",
            "Epoch:99, Loss:0.0276\n",
            "Epoch:100, Loss:0.0316\n"
          ]
        }
      ]
    },
    {
      "cell_type": "markdown",
      "source": [],
      "metadata": {
        "id": "lZ3YT92IVbJH"
      }
    },
    {
      "cell_type": "code",
      "source": [
        "for (img, l) in data_loader_test:\n",
        "    item = img.reshape(-1, 28 * 28)\n",
        "    enc = model.encoder(item)\n",
        "    enc = enc.detach().numpy()\n",
        "    l = l.detach().numpy()\n",
        "    encPics.append(enc)\n",
        "    labels.append(l)\n",
        "\n",
        "rf = RandomForestClassifier(n_estimators=266, max_depth=11)\n",
        "encPics = np.reshape(encPics, (-1, 2))\n",
        "labels = np.reshape(labels, (-1, 1))\n",
        "labels = labels.ravel()\n",
        "rf.fit(encPics, labels)\n",
        "y_pred_1 = rf.predict(encPics)\n",
        "\n",
        "accscore = accuracy_score(labels, y_pred_1, normalize=True)\n",
        "print(accscore)"
      ],
      "metadata": {
        "colab": {
          "base_uri": "https://localhost:8080/"
        },
        "id": "IsUVTSECSbNL",
        "outputId": "ffe6e0a2-aca7-4ea0-c3ec-301771dbeaa8"
      },
      "execution_count": 18,
      "outputs": [
        {
          "output_type": "stream",
          "name": "stdout",
          "text": [
            "0.6355\n"
          ]
        }
      ]
    }
  ]
}