{
  "nbformat": 4,
  "nbformat_minor": 0,
  "metadata": {
    "colab": {
      "provenance": []
    },
    "kernelspec": {
      "name": "python3",
      "display_name": "Python 3"
    },
    "language_info": {
      "name": "python"
    }
  },
  "cells": [
    {
      "cell_type": "markdown",
      "source": [
        "Import relevant libraries"
      ],
      "metadata": {
        "id": "6C78J7BhxRid"
      }
    },
    {
      "cell_type": "code",
      "execution_count": 1,
      "metadata": {
        "id": "IaR2KL7lxNw_"
      },
      "outputs": [],
      "source": [
        "import numpy as np\n",
        "import torch\n",
        "import torch.nn as nn\n",
        "import torch.optim as optim\n",
        "from sklearn.ensemble import RandomForestClassifier\n",
        "from sklearn.metrics import accuracy_score\n",
        "from torchvision import datasets, transforms"
      ]
    },
    {
      "cell_type": "markdown",
      "source": [
        "Load Dataset"
      ],
      "metadata": {
        "id": "AzQyQjfmxVdy"
      }
    },
    {
      "cell_type": "code",
      "source": [
        "# Define a transform to convert images to tensors\n",
        "transform = transforms.ToTensor()\n",
        "\n",
        "# Load the MNIST dataset\n",
        "mnist_train_data = datasets.MNIST(root='./data', train=True, download=True, transform=transform)\n",
        "mnist_test_data = datasets.MNIST(root='./data', train=False, download=True, transform=transform)\n",
        "\n",
        "# Create data loaders to load the data in batches\n",
        "data_loader = torch.utils.data.DataLoader(dataset=mnist_train_data, batch_size=64, shuffle=True)\n",
        "data_loader_test = torch.utils.data.DataLoader(dataset=mnist_test_data, batch_size=10000, shuffle=False)"
      ],
      "metadata": {
        "colab": {
          "base_uri": "https://localhost:8080/"
        },
        "id": "CVWWk6g8xVpi",
        "outputId": "07d8f3ad-ef74-4278-b571-b066c315b93a"
      },
      "execution_count": 2,
      "outputs": [
        {
          "output_type": "stream",
          "name": "stdout",
          "text": [
            "Downloading http://yann.lecun.com/exdb/mnist/train-images-idx3-ubyte.gz\n",
            "Downloading http://yann.lecun.com/exdb/mnist/train-images-idx3-ubyte.gz to ./data/MNIST/raw/train-images-idx3-ubyte.gz\n"
          ]
        },
        {
          "output_type": "stream",
          "name": "stderr",
          "text": [
            "100%|██████████| 9912422/9912422 [00:00<00:00, 78567629.83it/s]\n"
          ]
        },
        {
          "output_type": "stream",
          "name": "stdout",
          "text": [
            "Extracting ./data/MNIST/raw/train-images-idx3-ubyte.gz to ./data/MNIST/raw\n",
            "\n",
            "Downloading http://yann.lecun.com/exdb/mnist/train-labels-idx1-ubyte.gz\n",
            "Downloading http://yann.lecun.com/exdb/mnist/train-labels-idx1-ubyte.gz to ./data/MNIST/raw/train-labels-idx1-ubyte.gz\n"
          ]
        },
        {
          "output_type": "stream",
          "name": "stderr",
          "text": [
            "100%|██████████| 28881/28881 [00:00<00:00, 60236545.91it/s]"
          ]
        },
        {
          "output_type": "stream",
          "name": "stdout",
          "text": [
            "Extracting ./data/MNIST/raw/train-labels-idx1-ubyte.gz to ./data/MNIST/raw\n",
            "\n",
            "Downloading http://yann.lecun.com/exdb/mnist/t10k-images-idx3-ubyte.gz\n",
            "Downloading http://yann.lecun.com/exdb/mnist/t10k-images-idx3-ubyte.gz to ./data/MNIST/raw/t10k-images-idx3-ubyte.gz\n"
          ]
        },
        {
          "output_type": "stream",
          "name": "stderr",
          "text": [
            "\n",
            "100%|██████████| 1648877/1648877 [00:00<00:00, 27352296.45it/s]\n"
          ]
        },
        {
          "output_type": "stream",
          "name": "stdout",
          "text": [
            "Extracting ./data/MNIST/raw/t10k-images-idx3-ubyte.gz to ./data/MNIST/raw\n",
            "\n",
            "Downloading http://yann.lecun.com/exdb/mnist/t10k-labels-idx1-ubyte.gz\n",
            "Downloading http://yann.lecun.com/exdb/mnist/t10k-labels-idx1-ubyte.gz to ./data/MNIST/raw/t10k-labels-idx1-ubyte.gz\n"
          ]
        },
        {
          "output_type": "stream",
          "name": "stderr",
          "text": [
            "100%|██████████| 4542/4542 [00:00<00:00, 10684536.61it/s]"
          ]
        },
        {
          "output_type": "stream",
          "name": "stdout",
          "text": [
            "Extracting ./data/MNIST/raw/t10k-labels-idx1-ubyte.gz to ./data/MNIST/raw\n",
            "\n"
          ]
        },
        {
          "output_type": "stream",
          "name": "stderr",
          "text": [
            "\n"
          ]
        }
      ]
    },
    {
      "cell_type": "markdown",
      "source": [
        "Define the Autoencoder"
      ],
      "metadata": {
        "id": "DWXUIFbrxc0x"
      }
    },
    {
      "cell_type": "code",
      "source": [
        "# This is the definition of the Autoencoder model using a neural network with encoder and decoder modules.\n",
        "class Autoencoder700D(nn.Module):\n",
        "    def __init__(self):\n",
        "        super(Autoencoder700D, self).__init__()\n",
        "        self.encoder = nn.Sequential(\n",
        "            nn.Linear(784, 760),\n",
        "            nn.ReLU(),\n",
        "            nn.Linear(760, 730),\n",
        "            nn.ReLU(),\n",
        "            nn.Linear(730, 700)\n",
        "        )\n",
        "\n",
        "        self.decoder = nn.Sequential(\n",
        "            nn.Linear(700, 730),\n",
        "            nn.ReLU(),\n",
        "            nn.Linear(730, 760),\n",
        "            nn.ReLU(),\n",
        "            nn.Linear(760, 784),\n",
        "            nn.Sigmoid()\n",
        "        )\n",
        "\n",
        "    def forward(self, x):\n",
        "        encoded = self.encoder(x)\n",
        "        decoded = self.decoder(encoded)\n",
        "        return decoded"
      ],
      "metadata": {
        "id": "4Kvpoja2xekv"
      },
      "execution_count": 3,
      "outputs": []
    },
    {
      "cell_type": "markdown",
      "source": [
        "Define the relevant model parameters"
      ],
      "metadata": {
        "id": "DSvnesvQxoWB"
      }
    },
    {
      "cell_type": "code",
      "source": [
        "# These lines define the loss function (MSE loss), instantiate the Autoencoder model\n",
        "# learning rate of 1e-3 and L2 regularization with a weight decay of 1e-5.\n",
        "criterion = nn.MSELoss()\n",
        "model = Autoencoder700D()\n",
        "optimizer = optim.SGD(model.parameters(), lr=0.1, weight_decay=1e-10, momentum=0.9)"
      ],
      "metadata": {
        "id": "fcUPPwnCxpIe"
      },
      "execution_count": 4,
      "outputs": []
    },
    {
      "cell_type": "markdown",
      "source": [
        "train the model"
      ],
      "metadata": {
        "id": "fbeTM7lmxruo"
      }
    },
    {
      "cell_type": "code",
      "source": [
        "# train the model over n epochs\n",
        "num_epochs = 100\n",
        "encPics = []\n",
        "labels = []\n",
        "for epoch in range(num_epochs):\n",
        "    for (img, _) in data_loader:\n",
        "        img = img.reshape(-1, 28 * 28)\n",
        "        recon = model(img)\n",
        "        loss = criterion(recon, img)\n",
        "\n",
        "        optimizer.zero_grad()\n",
        "        loss.backward()\n",
        "        optimizer.step()\n",
        "\n",
        "    print(f'Epoch:{epoch + 1}, Loss:{loss.item():.4f}')"
      ],
      "metadata": {
        "colab": {
          "base_uri": "https://localhost:8080/"
        },
        "id": "ZC9fcOYexsQW",
        "outputId": "4f76ca23-8fc7-49f8-c1a3-8e9269feb474"
      },
      "execution_count": 5,
      "outputs": [
        {
          "output_type": "stream",
          "name": "stdout",
          "text": [
            "Epoch:1, Loss:0.0645\n",
            "Epoch:2, Loss:0.0605\n",
            "Epoch:3, Loss:0.0646\n",
            "Epoch:4, Loss:0.0627\n",
            "Epoch:5, Loss:0.0585\n",
            "Epoch:6, Loss:0.0494\n",
            "Epoch:7, Loss:0.0431\n",
            "Epoch:8, Loss:0.0371\n",
            "Epoch:9, Loss:0.0377\n",
            "Epoch:10, Loss:0.0297\n",
            "Epoch:11, Loss:0.0276\n",
            "Epoch:12, Loss:0.0310\n",
            "Epoch:13, Loss:0.0250\n",
            "Epoch:14, Loss:0.0286\n",
            "Epoch:15, Loss:0.0300\n",
            "Epoch:16, Loss:0.0217\n",
            "Epoch:17, Loss:0.0245\n",
            "Epoch:18, Loss:0.0227\n",
            "Epoch:19, Loss:0.0182\n",
            "Epoch:20, Loss:0.0215\n",
            "Epoch:21, Loss:0.0235\n",
            "Epoch:22, Loss:0.0166\n",
            "Epoch:23, Loss:0.0165\n",
            "Epoch:24, Loss:0.0191\n",
            "Epoch:25, Loss:0.0169\n",
            "Epoch:26, Loss:0.0179\n",
            "Epoch:27, Loss:0.0134\n",
            "Epoch:28, Loss:0.0135\n",
            "Epoch:29, Loss:0.0138\n",
            "Epoch:30, Loss:0.0163\n",
            "Epoch:31, Loss:0.0137\n",
            "Epoch:32, Loss:0.0111\n",
            "Epoch:33, Loss:0.0142\n",
            "Epoch:34, Loss:0.0147\n",
            "Epoch:35, Loss:0.0141\n",
            "Epoch:36, Loss:0.0124\n",
            "Epoch:37, Loss:0.0110\n",
            "Epoch:38, Loss:0.0152\n",
            "Epoch:39, Loss:0.0130\n",
            "Epoch:40, Loss:0.0095\n",
            "Epoch:41, Loss:0.0107\n",
            "Epoch:42, Loss:0.0090\n",
            "Epoch:43, Loss:0.0104\n",
            "Epoch:44, Loss:0.0115\n",
            "Epoch:45, Loss:0.0112\n",
            "Epoch:46, Loss:0.0105\n",
            "Epoch:47, Loss:0.0089\n",
            "Epoch:48, Loss:0.0091\n",
            "Epoch:49, Loss:0.0100\n",
            "Epoch:50, Loss:0.0096\n",
            "Epoch:51, Loss:0.0092\n",
            "Epoch:52, Loss:0.0085\n",
            "Epoch:53, Loss:0.0086\n",
            "Epoch:54, Loss:0.0083\n",
            "Epoch:55, Loss:0.0074\n",
            "Epoch:56, Loss:0.0084\n",
            "Epoch:57, Loss:0.0095\n",
            "Epoch:58, Loss:0.0076\n",
            "Epoch:59, Loss:0.0078\n",
            "Epoch:60, Loss:0.0080\n",
            "Epoch:61, Loss:0.0083\n",
            "Epoch:62, Loss:0.0076\n",
            "Epoch:63, Loss:0.0066\n",
            "Epoch:64, Loss:0.0080\n",
            "Epoch:65, Loss:0.0069\n",
            "Epoch:66, Loss:0.0073\n",
            "Epoch:67, Loss:0.0096\n",
            "Epoch:68, Loss:0.0089\n",
            "Epoch:69, Loss:0.0067\n",
            "Epoch:70, Loss:0.0069\n",
            "Epoch:71, Loss:0.0089\n",
            "Epoch:72, Loss:0.0076\n",
            "Epoch:73, Loss:0.0072\n",
            "Epoch:74, Loss:0.0067\n",
            "Epoch:75, Loss:0.0073\n",
            "Epoch:76, Loss:0.0061\n",
            "Epoch:77, Loss:0.0066\n",
            "Epoch:78, Loss:0.0069\n",
            "Epoch:79, Loss:0.0084\n",
            "Epoch:80, Loss:0.0064\n",
            "Epoch:81, Loss:0.0064\n",
            "Epoch:82, Loss:0.0073\n",
            "Epoch:83, Loss:0.0070\n",
            "Epoch:84, Loss:0.0069\n",
            "Epoch:85, Loss:0.0072\n",
            "Epoch:86, Loss:0.0101\n",
            "Epoch:87, Loss:0.0070\n",
            "Epoch:88, Loss:0.0078\n",
            "Epoch:89, Loss:0.0067\n",
            "Epoch:90, Loss:0.0058\n",
            "Epoch:91, Loss:0.0066\n",
            "Epoch:92, Loss:0.0067\n",
            "Epoch:93, Loss:0.0064\n",
            "Epoch:94, Loss:0.0054\n",
            "Epoch:95, Loss:0.0070\n",
            "Epoch:96, Loss:0.0057\n",
            "Epoch:97, Loss:0.0054\n",
            "Epoch:98, Loss:0.0060\n",
            "Epoch:99, Loss:0.0067\n",
            "Epoch:100, Loss:0.0048\n"
          ]
        }
      ]
    },
    {
      "cell_type": "markdown",
      "source": [
        "Determine the accuracy of the Random Forest classifier on the reduced data"
      ],
      "metadata": {
        "id": "AwG6yYG0xxWV"
      }
    },
    {
      "cell_type": "code",
      "source": [
        "for (img, l) in data_loader_test:\n",
        "    item = img.reshape(-1, 28 * 28)\n",
        "    enc = model.encoder(item)\n",
        "    enc = enc.detach().numpy()\n",
        "    l = l.detach().numpy()\n",
        "    encPics.append(enc)\n",
        "    labels.append(l)\n",
        "\n",
        "rf = RandomForestClassifier(n_estimators=266, max_depth=11)\n",
        "encPics = np.reshape(encPics, (-1, 700))\n",
        "labels = np.reshape(labels, (-1, 1))\n",
        "labels = labels.ravel()\n",
        "rf.fit(encPics, labels)\n",
        "y_pred_1 = rf.predict(encPics)\n",
        "\n",
        "accscore = accuracy_score(labels, y_pred_1, normalize=True)\n",
        "print(accscore)"
      ],
      "metadata": {
        "colab": {
          "base_uri": "https://localhost:8080/"
        },
        "id": "c9Z2ECx4xxhm",
        "outputId": "1f45ccf8-f642-4e6c-ae19-3673d85a2c95"
      },
      "execution_count": 6,
      "outputs": [
        {
          "output_type": "stream",
          "name": "stdout",
          "text": [
            "0.9971\n"
          ]
        }
      ]
    }
  ]
}