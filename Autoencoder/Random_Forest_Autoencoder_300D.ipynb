{
  "nbformat": 4,
  "nbformat_minor": 0,
  "metadata": {
    "colab": {
      "provenance": []
    },
    "kernelspec": {
      "name": "python3",
      "display_name": "Python 3"
    },
    "language_info": {
      "name": "python"
    }
  },
  "cells": [
    {
      "cell_type": "markdown",
      "source": [
        "Import relevant libraries"
      ],
      "metadata": {
        "id": "DJQyL824o5Kj"
      }
    },
    {
      "cell_type": "code",
      "execution_count": 5,
      "metadata": {
        "id": "hnE7YHU9oxsE"
      },
      "outputs": [],
      "source": [
        "import numpy as np\n",
        "import torch\n",
        "import torch.nn as nn\n",
        "import torch.optim as optim\n",
        "from sklearn.ensemble import RandomForestClassifier\n",
        "from sklearn.metrics import accuracy_score\n",
        "from torchvision import datasets, transforms"
      ]
    },
    {
      "cell_type": "markdown",
      "source": [
        "Load Dataset"
      ],
      "metadata": {
        "id": "rSc_o9_ho8_G"
      }
    },
    {
      "cell_type": "code",
      "source": [
        "# Define a transform to convert images to tensors\n",
        "transform = transforms.ToTensor()\n",
        "\n",
        "# Load the MNIST dataset\n",
        "mnist_train_data = datasets.MNIST(root='./data', train=True, download=True, transform=transform)\n",
        "mnist_test_data = datasets.MNIST(root='./data', train=False, download=True, transform=transform)\n",
        "\n",
        "# Create data loaders to load the data in batches\n",
        "data_loader = torch.utils.data.DataLoader(dataset=mnist_train_data, batch_size=64, shuffle=True)\n",
        "data_loader_test = torch.utils.data.DataLoader(dataset=mnist_test_data, batch_size=10000, shuffle=False)"
      ],
      "metadata": {
        "id": "IJsq6pxyo64Z"
      },
      "execution_count": 6,
      "outputs": []
    },
    {
      "cell_type": "markdown",
      "source": [
        "Define the Autoencoder"
      ],
      "metadata": {
        "id": "HzI6NPm2o9Zz"
      }
    },
    {
      "cell_type": "code",
      "source": [
        "# This is the definition of the Autoencoder model using a neural network with encoder and decoder modules.\n",
        "class Autoencoder300D(nn.Module):\n",
        "    def __init__(self):\n",
        "        super(Autoencoder300D, self).__init__()\n",
        "        self.encoder = nn.Sequential(\n",
        "            nn.Linear(784, 500),\n",
        "            nn.ReLU(),\n",
        "            nn.Linear(500, 400),\n",
        "            nn.ReLU(),\n",
        "            nn.Linear(400, 300)\n",
        "        )\n",
        "\n",
        "        self.decoder = nn.Sequential(\n",
        "            nn.Linear(300, 400),\n",
        "            nn.ReLU(),\n",
        "            nn.Linear(400, 500),\n",
        "            nn.ReLU(),\n",
        "            nn.Linear(500, 784),\n",
        "            nn.Sigmoid()\n",
        "        )\n",
        "\n",
        "    def forward(self, x):\n",
        "        encoded = self.encoder(x)\n",
        "        decoded = self.decoder(encoded)\n",
        "        return decoded"
      ],
      "metadata": {
        "id": "8ZS5uIyso9mJ"
      },
      "execution_count": 7,
      "outputs": []
    },
    {
      "cell_type": "markdown",
      "source": [
        "Define the relevant model parameters"
      ],
      "metadata": {
        "id": "vpU9vZZRpJ50"
      }
    },
    {
      "cell_type": "code",
      "source": [
        "# These lines define the loss function (MSE loss), instantiate the Autoencoder model\n",
        "# learning rate of 1e-3 and L2 regularization with a weight decay of 1e-5.\n",
        "criterion = nn.MSELoss()\n",
        "model = Autoencoder300D()\n",
        "optimizer = optim.SGD(model.parameters(), lr=0.1, weight_decay=1e-10, momentum=0.9)"
      ],
      "metadata": {
        "id": "8OEgT7i3pKMh"
      },
      "execution_count": 8,
      "outputs": []
    },
    {
      "cell_type": "markdown",
      "source": [
        "train the model"
      ],
      "metadata": {
        "id": "VnQqA9pHpL03"
      }
    },
    {
      "cell_type": "code",
      "source": [
        "# train the model over n epochs\n",
        "num_epochs = 100\n",
        "encPics = []\n",
        "labels = []\n",
        "for epoch in range(num_epochs):\n",
        "    for (img, _) in data_loader:\n",
        "        img = img.reshape(-1, 28 * 28)\n",
        "        recon = model(img)\n",
        "        loss = criterion(recon, img)\n",
        "\n",
        "        optimizer.zero_grad()\n",
        "        loss.backward()\n",
        "        optimizer.step()\n",
        "\n",
        "    print(f'Epoch:{epoch + 1}, Loss:{loss.item():.4f}')"
      ],
      "metadata": {
        "colab": {
          "base_uri": "https://localhost:8080/"
        },
        "id": "r5FmxFpDpL83",
        "outputId": "aabd9c18-c7ac-4ca7-c847-3809806ac2f7"
      },
      "execution_count": 9,
      "outputs": [
        {
          "output_type": "stream",
          "name": "stdout",
          "text": [
            "Epoch:1, Loss:0.0696\n",
            "Epoch:2, Loss:0.0622\n",
            "Epoch:3, Loss:0.0619\n",
            "Epoch:4, Loss:0.0633\n",
            "Epoch:5, Loss:0.0556\n",
            "Epoch:6, Loss:0.0582\n",
            "Epoch:7, Loss:0.0548\n",
            "Epoch:8, Loss:0.0429\n",
            "Epoch:9, Loss:0.0472\n",
            "Epoch:10, Loss:0.0392\n",
            "Epoch:11, Loss:0.0384\n",
            "Epoch:12, Loss:0.0311\n",
            "Epoch:13, Loss:0.0301\n",
            "Epoch:14, Loss:0.0287\n",
            "Epoch:15, Loss:0.0277\n",
            "Epoch:16, Loss:0.0263\n",
            "Epoch:17, Loss:0.0228\n",
            "Epoch:18, Loss:0.0213\n",
            "Epoch:19, Loss:0.0218\n",
            "Epoch:20, Loss:0.0242\n",
            "Epoch:21, Loss:0.0203\n",
            "Epoch:22, Loss:0.0200\n",
            "Epoch:23, Loss:0.0183\n",
            "Epoch:24, Loss:0.0188\n",
            "Epoch:25, Loss:0.0202\n",
            "Epoch:26, Loss:0.0188\n",
            "Epoch:27, Loss:0.0184\n",
            "Epoch:28, Loss:0.0186\n",
            "Epoch:29, Loss:0.0162\n",
            "Epoch:30, Loss:0.0156\n",
            "Epoch:31, Loss:0.0186\n",
            "Epoch:32, Loss:0.0174\n",
            "Epoch:33, Loss:0.0143\n",
            "Epoch:34, Loss:0.0155\n",
            "Epoch:35, Loss:0.0149\n",
            "Epoch:36, Loss:0.0165\n",
            "Epoch:37, Loss:0.0135\n",
            "Epoch:38, Loss:0.0126\n",
            "Epoch:39, Loss:0.0129\n",
            "Epoch:40, Loss:0.0142\n",
            "Epoch:41, Loss:0.0108\n",
            "Epoch:42, Loss:0.0108\n",
            "Epoch:43, Loss:0.0104\n",
            "Epoch:44, Loss:0.0136\n",
            "Epoch:45, Loss:0.0130\n",
            "Epoch:46, Loss:0.0117\n",
            "Epoch:47, Loss:0.0108\n",
            "Epoch:48, Loss:0.0104\n",
            "Epoch:49, Loss:0.0110\n",
            "Epoch:50, Loss:0.0104\n",
            "Epoch:51, Loss:0.0119\n",
            "Epoch:52, Loss:0.0109\n",
            "Epoch:53, Loss:0.0097\n",
            "Epoch:54, Loss:0.0098\n",
            "Epoch:55, Loss:0.0118\n",
            "Epoch:56, Loss:0.0108\n",
            "Epoch:57, Loss:0.0116\n",
            "Epoch:58, Loss:0.0090\n",
            "Epoch:59, Loss:0.0113\n",
            "Epoch:60, Loss:0.0085\n",
            "Epoch:61, Loss:0.0100\n",
            "Epoch:62, Loss:0.0086\n",
            "Epoch:63, Loss:0.0101\n",
            "Epoch:64, Loss:0.0109\n",
            "Epoch:65, Loss:0.0099\n",
            "Epoch:66, Loss:0.0092\n",
            "Epoch:67, Loss:0.0080\n",
            "Epoch:68, Loss:0.0095\n",
            "Epoch:69, Loss:0.0091\n",
            "Epoch:70, Loss:0.0092\n",
            "Epoch:71, Loss:0.0088\n",
            "Epoch:72, Loss:0.0090\n",
            "Epoch:73, Loss:0.0093\n",
            "Epoch:74, Loss:0.0097\n",
            "Epoch:75, Loss:0.0086\n",
            "Epoch:76, Loss:0.0083\n",
            "Epoch:77, Loss:0.0088\n",
            "Epoch:78, Loss:0.0076\n",
            "Epoch:79, Loss:0.0083\n",
            "Epoch:80, Loss:0.0080\n",
            "Epoch:81, Loss:0.0093\n",
            "Epoch:82, Loss:0.0077\n",
            "Epoch:83, Loss:0.0081\n",
            "Epoch:84, Loss:0.0084\n",
            "Epoch:85, Loss:0.0072\n",
            "Epoch:86, Loss:0.0082\n",
            "Epoch:87, Loss:0.0064\n",
            "Epoch:88, Loss:0.0067\n",
            "Epoch:89, Loss:0.0081\n",
            "Epoch:90, Loss:0.0078\n",
            "Epoch:91, Loss:0.0067\n",
            "Epoch:92, Loss:0.0072\n",
            "Epoch:93, Loss:0.0061\n",
            "Epoch:94, Loss:0.0064\n",
            "Epoch:95, Loss:0.0067\n",
            "Epoch:96, Loss:0.0072\n",
            "Epoch:97, Loss:0.0070\n",
            "Epoch:98, Loss:0.0077\n",
            "Epoch:99, Loss:0.0067\n",
            "Epoch:100, Loss:0.0072\n"
          ]
        }
      ]
    },
    {
      "cell_type": "markdown",
      "source": [
        "Determine the accuracy of the Random Forest classifier on the reduced data"
      ],
      "metadata": {
        "id": "H2LhiF5jpN4Z"
      }
    },
    {
      "cell_type": "code",
      "source": [
        "for (img, l) in data_loader_test:\n",
        "    item = img.reshape(-1, 28 * 28)\n",
        "    enc = model.encoder(item)\n",
        "    enc = enc.detach().numpy()\n",
        "    l = l.detach().numpy()\n",
        "    encPics.append(enc)\n",
        "    labels.append(l)\n",
        "\n",
        "rf = RandomForestClassifier(n_estimators=266, max_depth=11)\n",
        "encPics = np.reshape(encPics, (-1, 300))\n",
        "labels = np.reshape(labels, (-1, 1))\n",
        "labels = labels.ravel()\n",
        "rf.fit(encPics, labels)\n",
        "y_pred_1 = rf.predict(encPics)\n",
        "\n",
        "accscore = accuracy_score(labels, y_pred_1, normalize=True)\n",
        "print(accscore)"
      ],
      "metadata": {
        "colab": {
          "base_uri": "https://localhost:8080/"
        },
        "id": "zfzrs68npOCY",
        "outputId": "eac18aae-a85d-48bb-8179-728ec049af7d"
      },
      "execution_count": 10,
      "outputs": [
        {
          "output_type": "stream",
          "name": "stdout",
          "text": [
            "0.9959\n"
          ]
        }
      ]
    }
  ]
}