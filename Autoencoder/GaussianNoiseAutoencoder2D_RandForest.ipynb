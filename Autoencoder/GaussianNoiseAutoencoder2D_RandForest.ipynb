{
  "nbformat": 4,
  "nbformat_minor": 0,
  "metadata": {
    "colab": {
      "provenance": []
    },
    "kernelspec": {
      "name": "python3",
      "display_name": "Python 3"
    },
    "language_info": {
      "name": "python"
    }
  },
  "cells": [
    {
      "cell_type": "markdown",
      "source": [
        "Import relevant libraries"
      ],
      "metadata": {
        "id": "DY4G1Tb-lihK"
      }
    },
    {
      "cell_type": "code",
      "execution_count": 42,
      "metadata": {
        "id": "I-JQk4CVHlHm"
      },
      "outputs": [],
      "source": [
        "import torch\n",
        "import torch.nn as nn\n",
        "import torch.optim as optim\n",
        "from torchvision import datasets, transforms\n",
        "import matplotlib.pyplot as plt\n",
        "import random\n",
        "import numpy as np\n",
        "from sklearn.metrics import accuracy_score, classification_report\n",
        "from sklearn.ensemble import RandomForestClassifier"
      ]
    },
    {
      "cell_type": "markdown",
      "source": [
        "Define a class for AddGaussianNoise"
      ],
      "metadata": {
        "id": "bpE4VrMOmZWY"
      }
    },
    {
      "cell_type": "code",
      "source": [
        "# Define a class AddGaussianNoise\n",
        "class AddGaussianNoise(object):\n",
        "    # Initialize the AddGaussianNoise object with mean and standard deviation values\n",
        "    def __init__(self, mean=0., std=1.):\n",
        "        self.std = std\n",
        "        self.mean = mean\n",
        "    # Add Gaussian noise to the input tensor\n",
        "    def __call__(self, tensor):\n",
        "        return tensor + torch.randn(tensor.size()) * self.std + self.mean\n",
        "    # Return a string representation of the AddGaussianNoise object\n",
        "    def __repr__(self):\n",
        "        return self.__class__.__name__ + '(mean={0}, std={1})'.format(self.mean, self.std)"
      ],
      "metadata": {
        "id": "F0wQxvAekrBe"
      },
      "execution_count": 43,
      "outputs": []
    },
    {
      "cell_type": "markdown",
      "source": [
        "Define a transform to convert images to tensors and add gaussian noise"
      ],
      "metadata": {
        "id": "xe69FjWHmc7_"
      }
    },
    {
      "cell_type": "code",
      "source": [
        "# Define a transform to convert images to tensors\n",
        "transform = transforms.Compose([\n",
        "    transforms.ToTensor(),\n",
        "    transforms.Normalize((0.1307,), (0.3081,)),\n",
        "    AddGaussianNoise(0., 1.)\n",
        "])\n",
        "\n",
        "trans = transforms.ToTensor()"
      ],
      "metadata": {
        "id": "6lkAds5OkuM0"
      },
      "execution_count": 44,
      "outputs": []
    },
    {
      "cell_type": "markdown",
      "source": [
        "Load Training Data"
      ],
      "metadata": {
        "id": "GMBnZR6qmkRp"
      }
    },
    {
      "cell_type": "code",
      "source": [
        "# Load the MNIST dataset with gaussian noise\n",
        "mnist_data_gauss = datasets.MNIST(root='./data', train=True, download=True, transform=transform)\n",
        "# Load the MNIST dataset\n",
        "mnist_data = datasets.MNIST(root='./data', train=True, download=True, transform=trans)\n",
        "\n",
        "mnist_test_gauss =  datasets.MNIST(root='./data', train=False, download=True, transform=transform)\n",
        "\n",
        "# Create a data loader to load the data with gaussian noise in batches\n",
        "data_loader_gauss = torch.utils.data.DataLoader(dataset=mnist_data_gauss, batch_size=64, shuffle=False)\n",
        "# Create a data loader to load the data in batches\n",
        "data_loader = torch.utils.data.DataLoader(dataset=mnist_data, batch_size=64, shuffle=False)\n",
        "\n",
        "test_data_loader_gauss = torch.utils.data.DataLoader(dataset=mnist_test_gauss, batch_size=10000, shuffle=False)\n",
        "\n",
        "dataiter = iter(data_loader_gauss)\n",
        "images, labels = dataiter.__next__()\n",
        "print(torch.min(images), torch.max(images))"
      ],
      "metadata": {
        "colab": {
          "base_uri": "https://localhost:8080/"
        },
        "id": "SnRQj3GCkxDO",
        "outputId": "e351984d-2a6a-4751-c19c-e7a5b5603edf"
      },
      "execution_count": 45,
      "outputs": [
        {
          "output_type": "stream",
          "name": "stdout",
          "text": [
            "tensor(-4.4817) tensor(6.3702)\n"
          ]
        }
      ]
    },
    {
      "cell_type": "markdown",
      "source": [
        "Definition of the Autoencoder with a Bottleneck layer of 49 neurons"
      ],
      "metadata": {
        "id": "U8cPI3Bpmo_L"
      }
    },
    {
      "cell_type": "code",
      "source": [
        "class Autoencoder(nn.Module):\n",
        "    def __init__(self):\n",
        "        super(Autoencoder, self).__init__()\n",
        "        # N, 784\n",
        "        self.encoder = nn.Sequential(\n",
        "            nn.Linear(784, 392),\n",
        "            nn.ReLU(),\n",
        "            nn.Linear(392, 196),\n",
        "            nn.ReLU(),\n",
        "            nn.Linear(196, 98),\n",
        "            nn.ReLU(),\n",
        "            nn.Linear(98, 49),\n",
        "            nn.ReLU(),\n",
        "            nn.Linear(49, 16),\n",
        "            nn.ReLU(),\n",
        "            nn.Linear(16, 2)\n",
        "        )\n",
        "\n",
        "        self.decoder = nn.Sequential(\n",
        "            nn.Linear(2, 16),\n",
        "            nn.ReLU(),\n",
        "            nn.Linear(16, 49),\n",
        "            nn.ReLU(),\n",
        "            nn.Linear(49, 98),\n",
        "            nn.ReLU(),\n",
        "            nn.Linear(98, 196),\n",
        "            nn.ReLU(),\n",
        "            nn.Linear(196, 392),\n",
        "            nn.ReLU(),\n",
        "            nn.Linear(392, 784),\n",
        "            nn.Sigmoid()\n",
        "        )\n",
        "\n",
        "    def forward(self, x):\n",
        "        encoded = self.encoder(x)\n",
        "        decoded = self.decoder(encoded)\n",
        "        return decoded"
      ],
      "metadata": {
        "id": "3Ctb6uxPk0Ly"
      },
      "execution_count": 46,
      "outputs": []
    },
    {
      "cell_type": "markdown",
      "source": [
        "Train the Autoencoder for n epochs"
      ],
      "metadata": {
        "id": "D4rpMUg_mxzp"
      }
    },
    {
      "cell_type": "code",
      "source": [
        "\n",
        "# These lines define the loss function (MSE loss), instantiate the Autoencoder model\n",
        "# learning rate of 1e-3 and L2 regularization with a weight decay of 1e-5.\n",
        "criterion = nn.MSELoss()\n",
        "model = Autoencoder()\n",
        "optimizer = optim.SGD(model.parameters(), lr=0.1, weight_decay=1e-10, momentum=0.9)\n",
        "\n",
        "# train the model over n epochs\n",
        "num_epochs = 100\n",
        "outputs = []\n",
        "\n",
        "for epoch in range(num_epochs):\n",
        "    for j in range(0,500):\n",
        "        rand_index = random.randint(0, 49999)\n",
        "        img, _ = mnist_data_gauss[rand_index]\n",
        "        img = img.reshape(-1, 28 * 28)\n",
        "        recon = model(img)\n",
        "\n",
        "        real_img, _ = mnist_data[rand_index]\n",
        "        real_img = real_img.reshape(-1, 28 * 28)\n",
        "        loss = criterion(recon, real_img)\n",
        "\n",
        "        optimizer.zero_grad()\n",
        "        loss.backward()\n",
        "        optimizer.step()\n",
        "\n",
        "    print(f'Epoch:{epoch + 1}, Loss:{loss.item():.4f}')\n",
        "    outputs.append((epoch, img, recon))"
      ],
      "metadata": {
        "colab": {
          "base_uri": "https://localhost:8080/"
        },
        "id": "DfAP3og5k7as",
        "outputId": "cbdf44fa-bafd-4b15-ab4e-cecb42def389"
      },
      "execution_count": 47,
      "outputs": [
        {
          "output_type": "stream",
          "name": "stdout",
          "text": [
            "Epoch:1, Loss:0.0431\n",
            "Epoch:2, Loss:0.1068\n",
            "Epoch:3, Loss:0.0567\n",
            "Epoch:4, Loss:0.0922\n",
            "Epoch:5, Loss:0.0665\n",
            "Epoch:6, Loss:0.0652\n",
            "Epoch:7, Loss:0.0760\n",
            "Epoch:8, Loss:0.0516\n",
            "Epoch:9, Loss:0.0895\n",
            "Epoch:10, Loss:0.0537\n",
            "Epoch:11, Loss:0.0728\n",
            "Epoch:12, Loss:0.0172\n",
            "Epoch:13, Loss:0.0393\n",
            "Epoch:14, Loss:0.0674\n",
            "Epoch:15, Loss:0.0503\n",
            "Epoch:16, Loss:0.0532\n",
            "Epoch:17, Loss:0.0492\n",
            "Epoch:18, Loss:0.0480\n",
            "Epoch:19, Loss:0.0611\n",
            "Epoch:20, Loss:0.0619\n",
            "Epoch:21, Loss:0.0556\n",
            "Epoch:22, Loss:0.0255\n",
            "Epoch:23, Loss:0.0218\n",
            "Epoch:24, Loss:0.0707\n",
            "Epoch:25, Loss:0.0426\n",
            "Epoch:26, Loss:0.0961\n",
            "Epoch:27, Loss:0.0590\n",
            "Epoch:28, Loss:0.0723\n",
            "Epoch:29, Loss:0.0629\n",
            "Epoch:30, Loss:0.0321\n",
            "Epoch:31, Loss:0.0578\n",
            "Epoch:32, Loss:0.0597\n",
            "Epoch:33, Loss:0.0756\n",
            "Epoch:34, Loss:0.0511\n",
            "Epoch:35, Loss:0.0728\n",
            "Epoch:36, Loss:0.0279\n",
            "Epoch:37, Loss:0.0320\n",
            "Epoch:38, Loss:0.0572\n",
            "Epoch:39, Loss:0.0610\n",
            "Epoch:40, Loss:0.0762\n",
            "Epoch:41, Loss:0.0189\n",
            "Epoch:42, Loss:0.0819\n",
            "Epoch:43, Loss:0.0380\n",
            "Epoch:44, Loss:0.0345\n",
            "Epoch:45, Loss:0.0553\n",
            "Epoch:46, Loss:0.0662\n",
            "Epoch:47, Loss:0.0675\n",
            "Epoch:48, Loss:0.0733\n",
            "Epoch:49, Loss:0.0689\n",
            "Epoch:50, Loss:0.0220\n",
            "Epoch:51, Loss:0.0294\n",
            "Epoch:52, Loss:0.0515\n",
            "Epoch:53, Loss:0.0226\n",
            "Epoch:54, Loss:0.0583\n",
            "Epoch:55, Loss:0.0431\n",
            "Epoch:56, Loss:0.0648\n",
            "Epoch:57, Loss:0.0423\n",
            "Epoch:58, Loss:0.0829\n",
            "Epoch:59, Loss:0.0416\n",
            "Epoch:60, Loss:0.0459\n",
            "Epoch:61, Loss:0.0565\n",
            "Epoch:62, Loss:0.0370\n",
            "Epoch:63, Loss:0.0547\n",
            "Epoch:64, Loss:0.0525\n",
            "Epoch:65, Loss:0.0561\n",
            "Epoch:66, Loss:0.0295\n",
            "Epoch:67, Loss:0.0494\n",
            "Epoch:68, Loss:0.0880\n",
            "Epoch:69, Loss:0.0444\n",
            "Epoch:70, Loss:0.0722\n",
            "Epoch:71, Loss:0.0483\n",
            "Epoch:72, Loss:0.0590\n",
            "Epoch:73, Loss:0.0768\n",
            "Epoch:74, Loss:0.0202\n",
            "Epoch:75, Loss:0.0763\n",
            "Epoch:76, Loss:0.0566\n",
            "Epoch:77, Loss:0.0371\n",
            "Epoch:78, Loss:0.0701\n",
            "Epoch:79, Loss:0.0498\n",
            "Epoch:80, Loss:0.0857\n",
            "Epoch:81, Loss:0.0925\n",
            "Epoch:82, Loss:0.0605\n",
            "Epoch:83, Loss:0.0642\n",
            "Epoch:84, Loss:0.0477\n",
            "Epoch:85, Loss:0.0830\n",
            "Epoch:86, Loss:0.0848\n",
            "Epoch:87, Loss:0.0388\n",
            "Epoch:88, Loss:0.0735\n",
            "Epoch:89, Loss:0.0559\n",
            "Epoch:90, Loss:0.0606\n",
            "Epoch:91, Loss:0.0731\n",
            "Epoch:92, Loss:0.0275\n",
            "Epoch:93, Loss:0.0663\n",
            "Epoch:94, Loss:0.0515\n",
            "Epoch:95, Loss:0.0590\n",
            "Epoch:96, Loss:0.0565\n",
            "Epoch:97, Loss:0.0522\n",
            "Epoch:98, Loss:0.0439\n",
            "Epoch:99, Loss:0.0087\n",
            "Epoch:100, Loss:0.0500\n"
          ]
        }
      ]
    },
    {
      "cell_type": "markdown",
      "source": [
        "Plot the reconstructed images versus the images with Gaussian noise for every 20. epoch"
      ],
      "metadata": {
        "id": "XLTiktEVm7vW"
      }
    },
    {
      "cell_type": "code",
      "source": [
        "# Plot the resulting images\n",
        "for k in range(0, num_epochs, 20):\n",
        "    plt.figure(figsize=(9, 2))\n",
        "    plt.gray()\n",
        "    imgs = outputs[k][1].detach().numpy()\n",
        "    recon = outputs[k][2].detach().numpy()\n",
        "    for i, item in enumerate(imgs):\n",
        "        if i >= 9: break\n",
        "        plt.subplot(2, 9, i + 1)\n",
        "        item = item.reshape(-1, 28, 28)\n",
        "        plt.imshow(item[0])\n",
        "\n",
        "    for i, item in enumerate(recon):\n",
        "        if i >= 9: break\n",
        "        plt.subplot(2, 9, 9 + i + 1)\n",
        "        item = item.reshape(-1, 28, 28)\n",
        "        plt.imshow(item[0])\n",
        "\n",
        "plt.show()"
      ],
      "metadata": {
        "colab": {
          "base_uri": "https://localhost:8080/",
          "height": 1000
        },
        "id": "V2HDHrISk-EB",
        "outputId": "55a893cf-b4f8-4ea9-b1b6-16a3451f322d"
      },
      "execution_count": 48,
      "outputs": [
        {
          "output_type": "display_data",
          "data": {
            "text/plain": [
              "<Figure size 900x200 with 2 Axes>"
            ],
            "image/png": "[encoded data removed]"
          },
          "metadata": {}
        },
        {
          "output_type": "display_data",
          "data": {
            "text/plain": [
              "<Figure size 900x200 with 2 Axes>"
            ],
            "image/png": "[encoded data removed]"
          },
          "metadata": {}
        },
        {
          "output_type": "display_data",
          "data": {
            "text/plain": [
              "<Figure size 900x200 with 2 Axes>"
            ],
            "image/png": "[encoded data removed]"
          },
          "metadata": {}
        },
        {
          "output_type": "display_data",
          "data": {
            "text/plain": [
              "<Figure size 900x200 with 2 Axes>"
            ],
            "image/png": "[encoded data removed]"
          },
          "metadata": {}
        },
        {
          "output_type": "display_data",
          "data": {
            "text/plain": [
              "<Figure size 900x200 with 2 Axes>"
            ],
            "image/png": "[encoded data removed]"
          },
          "metadata": {}
        }
      ]
    },
    {
      "cell_type": "markdown",
      "source": [
        "Run Random Forest Classifier on encoded data"
      ],
      "metadata": {
        "id": "Jdg7Oxj-UsaS"
      }
    },
    {
      "cell_type": "code",
      "source": [
        "encPics = []\n",
        "labels = []\n",
        "\n",
        "for (img, l) in test_data_loader_gauss:\n",
        "    item = img.reshape(-1, 28 * 28)\n",
        "    enc = model.encoder(item)\n",
        "    enc = enc.detach().numpy()\n",
        "    l = l.detach().numpy()\n",
        "    encPics.append(enc)\n",
        "    labels.append(l)\n",
        "\n",
        "rf = RandomForestClassifier(n_estimators=266, max_depth=11)\n",
        "encPics = np.reshape(encPics, (-1, 2))\n",
        "labels = np.reshape(labels, (-1, 1))\n",
        "labels = labels.ravel()\n",
        "rf.fit(encPics, labels)\n",
        "y_pred_1 = rf.predict(encPics)\n",
        "\n",
        "accscore = accuracy_score(labels, y_pred_1, normalize=True)\n",
        "print(accscore)\n",
        "\n",
        "print(classification_report(labels, y_pred_1))"
      ],
      "metadata": {
        "colab": {
          "base_uri": "https://localhost:8080/"
        },
        "id": "v_QYr-_5Ukq0",
        "outputId": "84eda96a-8c5b-4ec6-ca54-b86e645bff37"
      },
      "execution_count": 49,
      "outputs": [
        {
          "output_type": "stream",
          "name": "stdout",
          "text": [
            "0.626\n",
            "              precision    recall  f1-score   support\n",
            "\n",
            "           0       0.90      0.84      0.87       980\n",
            "           1       0.91      0.97      0.94      1135\n",
            "           2       0.67      0.41      0.51      1032\n",
            "           3       0.63      0.76      0.69      1010\n",
            "           4       0.48      0.55      0.51       982\n",
            "           5       0.76      0.37      0.50       892\n",
            "           6       0.49      0.81      0.61       958\n",
            "           7       0.51      0.62      0.56      1028\n",
            "           8       0.54      0.41      0.47       974\n",
            "           9       0.52      0.45      0.48      1009\n",
            "\n",
            "    accuracy                           0.63     10000\n",
            "   macro avg       0.64      0.62      0.61     10000\n",
            "weighted avg       0.64      0.63      0.62     10000\n",
            "\n"
          ]
        }
      ]
    }
  ]
}