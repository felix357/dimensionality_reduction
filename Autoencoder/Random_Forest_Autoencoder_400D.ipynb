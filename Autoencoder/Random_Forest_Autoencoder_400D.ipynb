{
  "nbformat": 4,
  "nbformat_minor": 0,
  "metadata": {
    "colab": {
      "provenance": []
    },
    "kernelspec": {
      "name": "python3",
      "display_name": "Python 3"
    },
    "language_info": {
      "name": "python"
    }
  },
  "cells": [
    {
      "cell_type": "markdown",
      "source": [
        "Import relevant libraries"
      ],
      "metadata": {
        "id": "GIv2vLIfq4k1"
      }
    },
    {
      "cell_type": "code",
      "execution_count": 17,
      "metadata": {
        "id": "qfIekHHbqy9X"
      },
      "outputs": [],
      "source": [
        "import numpy as np\n",
        "import torch\n",
        "import torch.nn as nn\n",
        "import torch.optim as optim\n",
        "from sklearn.ensemble import RandomForestClassifier\n",
        "from sklearn.metrics import accuracy_score\n",
        "from torchvision import datasets, transforms"
      ]
    },
    {
      "cell_type": "markdown",
      "source": [
        "Load Dataset"
      ],
      "metadata": {
        "id": "Tkkjnn8Mq8BW"
      }
    },
    {
      "cell_type": "code",
      "source": [
        "# Define a transform to convert images to tensors\n",
        "transform = transforms.ToTensor()\n",
        "\n",
        "# Load the MNIST dataset\n",
        "mnist_train_data = datasets.MNIST(root='./data', train=True, download=True, transform=transform)\n",
        "mnist_test_data = datasets.MNIST(root='./data', train=False, download=True, transform=transform)\n",
        "\n",
        "# Create data loaders to load the data in batches\n",
        "data_loader = torch.utils.data.DataLoader(dataset=mnist_train_data, batch_size=64, shuffle=True)\n",
        "data_loader_test = torch.utils.data.DataLoader(dataset=mnist_test_data, batch_size=10000, shuffle=False)"
      ],
      "metadata": {
        "id": "MTflaV8iq70u"
      },
      "execution_count": 18,
      "outputs": []
    },
    {
      "cell_type": "markdown",
      "source": [
        "Define the Autoencoder"
      ],
      "metadata": {
        "id": "vJD8KYh5q_hn"
      }
    },
    {
      "cell_type": "code",
      "source": [
        "\n",
        "# This is the definition of the Autoencoder model using a neural network with encoder and decoder modules.\n",
        "class Autoencoder400D(nn.Module):\n",
        "    def __init__(self):\n",
        "        super(Autoencoder400D, self).__init__()\n",
        "        self.encoder = nn.Sequential(\n",
        "            nn.Linear(784, 700),\n",
        "            nn.ReLU(),\n",
        "            nn.Linear(700, 500),\n",
        "            nn.ReLU(),\n",
        "            nn.Linear(500, 400)\n",
        "        )\n",
        "\n",
        "        self.decoder = nn.Sequential(\n",
        "            nn.Linear(400, 500),\n",
        "            nn.ReLU(),\n",
        "            nn.Linear(500, 700),\n",
        "            nn.ReLU(),\n",
        "            nn.Linear(700, 784),\n",
        "            nn.Sigmoid()\n",
        "        )\n",
        "\n",
        "    def forward(self, x):\n",
        "        encoded = self.encoder(x)\n",
        "        decoded = self.decoder(encoded)\n",
        "        return decoded"
      ],
      "metadata": {
        "id": "z8bnc7oeq_sS"
      },
      "execution_count": 19,
      "outputs": []
    },
    {
      "cell_type": "markdown",
      "source": [
        "Define the relevant model parameters"
      ],
      "metadata": {
        "id": "nhBwZ6wyrD08"
      }
    },
    {
      "cell_type": "code",
      "source": [
        "# These lines define the loss function (MSE loss), instantiate the Autoencoder model\n",
        "# learning rate of 1e-3 and L2 regularization with a weight decay of 1e-5.\n",
        "criterion = nn.MSELoss()\n",
        "model = Autoencoder400D()\n",
        "optimizer = optim.SGD(model.parameters(), lr=0.1, weight_decay=1e-10, momentum=0.9)"
      ],
      "metadata": {
        "id": "D1qIi62drD9D"
      },
      "execution_count": 20,
      "outputs": []
    },
    {
      "cell_type": "markdown",
      "source": [
        "train the model"
      ],
      "metadata": {
        "id": "xiIvuibOrLB7"
      }
    },
    {
      "cell_type": "code",
      "source": [
        "# train the model over n epochs\n",
        "num_epochs = 100\n",
        "encPics = []\n",
        "labels = []\n",
        "for epoch in range(num_epochs):\n",
        "    for (img, _) in data_loader:\n",
        "        img = img.reshape(-1, 28 * 28)\n",
        "        recon = model(img)\n",
        "        loss = criterion(recon, img)\n",
        "\n",
        "        optimizer.zero_grad()\n",
        "        loss.backward()\n",
        "        optimizer.step()\n",
        "\n",
        "    print(f'Epoch:{epoch + 1}, Loss:{loss.item():.4f}')"
      ],
      "metadata": {
        "colab": {
          "base_uri": "https://localhost:8080/"
        },
        "id": "JUBJWX3MrLJu",
        "outputId": "00342d98-3476-4856-d50d-1856474373a0"
      },
      "execution_count": 21,
      "outputs": [
        {
          "output_type": "stream",
          "name": "stdout",
          "text": [
            "Epoch:1, Loss:0.0637\n",
            "Epoch:2, Loss:0.0624\n",
            "Epoch:3, Loss:0.0688\n",
            "Epoch:4, Loss:0.0591\n",
            "Epoch:5, Loss:0.0577\n",
            "Epoch:6, Loss:0.0500\n",
            "Epoch:7, Loss:0.0488\n",
            "Epoch:8, Loss:0.0406\n",
            "Epoch:9, Loss:0.0389\n",
            "Epoch:10, Loss:0.0326\n",
            "Epoch:11, Loss:0.0323\n",
            "Epoch:12, Loss:0.0285\n",
            "Epoch:13, Loss:0.0270\n",
            "Epoch:14, Loss:0.0255\n",
            "Epoch:15, Loss:0.0261\n",
            "Epoch:16, Loss:0.0223\n",
            "Epoch:17, Loss:0.0256\n",
            "Epoch:18, Loss:0.0220\n",
            "Epoch:19, Loss:0.0201\n",
            "Epoch:20, Loss:0.0226\n",
            "Epoch:21, Loss:0.0187\n",
            "Epoch:22, Loss:0.0218\n",
            "Epoch:23, Loss:0.0190\n",
            "Epoch:24, Loss:0.0177\n",
            "Epoch:25, Loss:0.0155\n",
            "Epoch:26, Loss:0.0163\n",
            "Epoch:27, Loss:0.0166\n",
            "Epoch:28, Loss:0.0144\n",
            "Epoch:29, Loss:0.0157\n",
            "Epoch:30, Loss:0.0152\n",
            "Epoch:31, Loss:0.0148\n",
            "Epoch:32, Loss:0.0127\n",
            "Epoch:33, Loss:0.0155\n",
            "Epoch:34, Loss:0.0121\n",
            "Epoch:35, Loss:0.0157\n",
            "Epoch:36, Loss:0.0131\n",
            "Epoch:37, Loss:0.0153\n",
            "Epoch:38, Loss:0.0132\n",
            "Epoch:39, Loss:0.0131\n",
            "Epoch:40, Loss:0.0132\n",
            "Epoch:41, Loss:0.0126\n",
            "Epoch:42, Loss:0.0117\n",
            "Epoch:43, Loss:0.0134\n",
            "Epoch:44, Loss:0.0123\n",
            "Epoch:45, Loss:0.0123\n",
            "Epoch:46, Loss:0.0124\n",
            "Epoch:47, Loss:0.0107\n",
            "Epoch:48, Loss:0.0100\n",
            "Epoch:49, Loss:0.0084\n",
            "Epoch:50, Loss:0.0104\n",
            "Epoch:51, Loss:0.0097\n",
            "Epoch:52, Loss:0.0091\n",
            "Epoch:53, Loss:0.0102\n",
            "Epoch:55, Loss:0.0105\n",
            "Epoch:56, Loss:0.0092\n",
            "Epoch:57, Loss:0.0099\n",
            "Epoch:58, Loss:0.0083\n",
            "Epoch:59, Loss:0.0092\n",
            "Epoch:60, Loss:0.0098\n",
            "Epoch:61, Loss:0.0090\n",
            "Epoch:62, Loss:0.0096\n",
            "Epoch:63, Loss:0.0091\n",
            "Epoch:64, Loss:0.0095\n",
            "Epoch:65, Loss:0.0072\n",
            "Epoch:66, Loss:0.0073\n",
            "Epoch:67, Loss:0.0080\n",
            "Epoch:68, Loss:0.0081\n",
            "Epoch:69, Loss:0.0083\n",
            "Epoch:70, Loss:0.0072\n",
            "Epoch:71, Loss:0.0080\n",
            "Epoch:72, Loss:0.0071\n",
            "Epoch:73, Loss:0.0079\n",
            "Epoch:74, Loss:0.0088\n",
            "Epoch:75, Loss:0.0071\n",
            "Epoch:76, Loss:0.0082\n",
            "Epoch:77, Loss:0.0071\n",
            "Epoch:78, Loss:0.0086\n",
            "Epoch:79, Loss:0.0076\n",
            "Epoch:80, Loss:0.0063\n",
            "Epoch:81, Loss:0.0066\n",
            "Epoch:82, Loss:0.0074\n",
            "Epoch:83, Loss:0.0075\n",
            "Epoch:84, Loss:0.0087\n",
            "Epoch:85, Loss:0.0069\n",
            "Epoch:86, Loss:0.0079\n",
            "Epoch:87, Loss:0.0067\n",
            "Epoch:88, Loss:0.0085\n",
            "Epoch:89, Loss:0.0077\n",
            "Epoch:90, Loss:0.0055\n",
            "Epoch:91, Loss:0.0053\n",
            "Epoch:92, Loss:0.0068\n",
            "Epoch:93, Loss:0.0069\n",
            "Epoch:94, Loss:0.0071\n",
            "Epoch:95, Loss:0.0063\n",
            "Epoch:96, Loss:0.0071\n",
            "Epoch:97, Loss:0.0059\n",
            "Epoch:98, Loss:0.0067\n",
            "Epoch:99, Loss:0.0067\n",
            "Epoch:100, Loss:0.0081\n"
          ]
        }
      ]
    },
    {
      "cell_type": "markdown",
      "source": [
        "Determine the accuracy of the Random Forest classifier on the reduced data"
      ],
      "metadata": {
        "id": "AQ5HP3gYrQ6_"
      }
    },
    {
      "cell_type": "code",
      "source": [
        "for (img, l) in data_loader_test:\n",
        "    item = img.reshape(-1, 28 * 28)\n",
        "    enc = model.encoder(item)\n",
        "    enc = enc.detach().numpy()\n",
        "    l = l.detach().numpy()\n",
        "    encPics.append(enc)\n",
        "    labels.append(l)\n",
        "\n",
        "rf = RandomForestClassifier(n_estimators=266, max_depth=11)\n",
        "encPics = np.reshape(encPics, (-1, 400))\n",
        "labels = np.reshape(labels, (-1, 1))\n",
        "labels = labels.ravel()\n",
        "rf.fit(encPics, labels)\n",
        "y_pred_1 = rf.predict(encPics)\n",
        "\n",
        "accscore = accuracy_score(labels, y_pred_1, normalize=True)\n",
        "print(accscore)"
      ],
      "metadata": {
        "colab": {
          "base_uri": "https://localhost:8080/"
        },
        "id": "JPzZPqgtrRCQ",
        "outputId": "e417a6a9-d007-48a3-eae0-bf4989b9304c"
      },
      "execution_count": 22,
      "outputs": [
        {
          "output_type": "stream",
          "name": "stdout",
          "text": [
            "0.9966\n"
          ]
        }
      ]
    }
  ]
}