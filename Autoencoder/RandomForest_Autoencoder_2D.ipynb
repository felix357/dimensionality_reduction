{
  "nbformat": 4,
  "nbformat_minor": 0,
  "metadata": {
    "colab": {
      "provenance": []
    },
    "kernelspec": {
      "name": "python3",
      "display_name": "Python 3"
    },
    "language_info": {
      "name": "python"
    }
  },
  "cells": [
    {
      "cell_type": "markdown",
      "source": [
        "Import relevant libraries"
      ],
      "metadata": {
        "id": "DAgokYiOX4v_"
      }
    },
    {
      "cell_type": "code",
      "source": [
        "import numpy as np\n",
        "import torch\n",
        "import torch.nn as nn\n",
        "import torch.optim as optim\n",
        "from sklearn.ensemble import RandomForestClassifier\n",
        "from sklearn.metrics import accuracy_score\n",
        "from torchvision import datasets, transforms"
      ],
      "metadata": {
        "id": "7pnasikwXeEQ"
      },
      "execution_count": 43,
      "outputs": []
    },
    {
      "cell_type": "markdown",
      "source": [
        "Load Dataset"
      ],
      "metadata": {
        "id": "j5CfCQp2YiSn"
      }
    },
    {
      "cell_type": "code",
      "source": [
        "\n",
        "# Define a transform to convert images to tensors\n",
        "transform = transforms.ToTensor()\n",
        "\n",
        "# Load the MNIST dataset\n",
        "mnist_train_data = datasets.MNIST(root='./data', train=True, download=True, transform=transform)\n",
        "mnist_test_data = datasets.MNIST(root='./data', train=False, download=True, transform=transform)\n",
        "\n",
        "# Create data loaders to load the data in batches\n",
        "data_loader = torch.utils.data.DataLoader(dataset=mnist_train_data, batch_size=64, shuffle=True)\n",
        "data_loader_test = torch.utils.data.DataLoader(dataset=mnist_test_data, batch_size=10000, shuffle=False)"
      ],
      "metadata": {
        "id": "YGdrBU_TX1S0"
      },
      "execution_count": 45,
      "outputs": []
    },
    {
      "cell_type": "markdown",
      "source": [
        "Define the Autoencoder"
      ],
      "metadata": {
        "id": "q2cCfG_oYlDV"
      }
    },
    {
      "cell_type": "code",
      "source": [
        "# This is the definition of the Autoencoder model using a neural network with encoder and decoder modules.\n",
        "class Autoencoder2(nn.Module):\n",
        "    def __init__(self):\n",
        "        super(Autoencoder2, self).__init__()\n",
        "        # N, 784\n",
        "        self.encoder = nn.Sequential(\n",
        "            nn.Linear(784, 392),\n",
        "            nn.ReLU(),\n",
        "            nn.Linear(392, 196),\n",
        "            nn.ReLU(),\n",
        "            nn.Linear(196, 98),\n",
        "            nn.ReLU(),\n",
        "            nn.Linear(98, 49),\n",
        "            nn.ReLU(),\n",
        "            nn.Linear(49, 16),\n",
        "            nn.ReLU(),\n",
        "            nn.Linear(16, 2)\n",
        "        )\n",
        "\n",
        "        self.decoder = nn.Sequential(\n",
        "            nn.Linear(2, 16),\n",
        "            nn.ReLU(),\n",
        "            nn.Linear(16, 49),\n",
        "            nn.ReLU(),\n",
        "            nn.Linear(49, 98),\n",
        "            nn.ReLU(),\n",
        "            nn.Linear(98, 196),\n",
        "            nn.ReLU(),\n",
        "            nn.Linear(196, 392),\n",
        "            nn.ReLU(),\n",
        "            nn.Linear(392, 784),\n",
        "            nn.Sigmoid()\n",
        "        )\n",
        "\n",
        "    def forward(self, x):\n",
        "        encoded = self.encoder(x)\n",
        "        decoded = self.decoder(encoded)\n",
        "        return decoded"
      ],
      "metadata": {
        "id": "MRUlMNEuXx_Q"
      },
      "execution_count": 46,
      "outputs": []
    },
    {
      "cell_type": "markdown",
      "source": [
        "Define the relevant model parameters"
      ],
      "metadata": {
        "id": "6WUKOWvLYrOy"
      }
    },
    {
      "cell_type": "code",
      "source": [
        "# These lines define the loss function (MSE loss), instantiate the Autoencoder model\n",
        "# learning rate of 1e-3 and L2 regularization with a weight decay of 1e-5.\n",
        "criterion = nn.MSELoss()\n",
        "model = Autoencoder2()\n",
        "optimizer = optim.SGD(model.parameters(), lr=0.1, weight_decay=1e-10, momentum=0.9)"
      ],
      "metadata": {
        "id": "ST38hR1fXu_4"
      },
      "execution_count": 47,
      "outputs": []
    },
    {
      "cell_type": "markdown",
      "source": [
        "train the model"
      ],
      "metadata": {
        "id": "xPGgT1sjYxx6"
      }
    },
    {
      "cell_type": "code",
      "source": [
        "# train the model over n epochs\n",
        "num_epochs = 100\n",
        "encPics = []\n",
        "labels = []\n",
        "for epoch in range(num_epochs):\n",
        "    for (img, _) in data_loader:\n",
        "        img = img.reshape(-1, 28 * 28)\n",
        "        recon = model(img)\n",
        "        loss = criterion(recon, img)\n",
        "\n",
        "        optimizer.zero_grad()\n",
        "        loss.backward()\n",
        "        optimizer.step()\n",
        "\n",
        "    print(f'Epoch:{epoch + 1}, Loss:{loss.item():.4f}')"
      ],
      "metadata": {
        "colab": {
          "base_uri": "https://localhost:8080/"
        },
        "id": "f_GY5nMZXsAi",
        "outputId": "ec46efd5-aecf-4f6f-973c-8718ec338199"
      },
      "execution_count": 48,
      "outputs": [
        {
          "output_type": "stream",
          "name": "stdout",
          "text": [
            "Epoch:1, Loss:0.0605\n",
            "Epoch:2, Loss:0.0683\n",
            "Epoch:3, Loss:0.0701\n",
            "Epoch:4, Loss:0.0665\n",
            "Epoch:5, Loss:0.0652\n",
            "Epoch:6, Loss:0.0640\n",
            "Epoch:7, Loss:0.0646\n",
            "Epoch:8, Loss:0.0615\n",
            "Epoch:9, Loss:0.0640\n",
            "Epoch:10, Loss:0.0602\n",
            "Epoch:11, Loss:0.0604\n",
            "Epoch:12, Loss:0.0594\n",
            "Epoch:13, Loss:0.0596\n",
            "Epoch:14, Loss:0.0617\n",
            "Epoch:15, Loss:0.0578\n",
            "Epoch:16, Loss:0.0588\n",
            "Epoch:17, Loss:0.0559\n",
            "Epoch:18, Loss:0.0571\n",
            "Epoch:19, Loss:0.0618\n",
            "Epoch:20, Loss:0.0583\n",
            "Epoch:21, Loss:0.0549\n",
            "Epoch:22, Loss:0.0507\n",
            "Epoch:23, Loss:0.0540\n",
            "Epoch:24, Loss:0.0560\n",
            "Epoch:25, Loss:0.0545\n",
            "Epoch:26, Loss:0.0431\n",
            "Epoch:27, Loss:0.0477\n",
            "Epoch:28, Loss:0.0440\n",
            "Epoch:29, Loss:0.0494\n",
            "Epoch:30, Loss:0.0459\n",
            "Epoch:31, Loss:0.0492\n",
            "Epoch:32, Loss:0.0444\n",
            "Epoch:33, Loss:0.0499\n",
            "Epoch:34, Loss:0.0484\n",
            "Epoch:35, Loss:0.0499\n",
            "Epoch:36, Loss:0.0458\n",
            "Epoch:37, Loss:0.0470\n",
            "Epoch:38, Loss:0.0404\n",
            "Epoch:39, Loss:0.0408\n",
            "Epoch:40, Loss:0.0430\n",
            "Epoch:41, Loss:0.0437\n",
            "Epoch:42, Loss:0.0391\n",
            "Epoch:43, Loss:0.0404\n",
            "Epoch:44, Loss:0.0383\n",
            "Epoch:45, Loss:0.0330\n",
            "Epoch:46, Loss:0.0424\n",
            "Epoch:47, Loss:0.0432\n",
            "Epoch:48, Loss:0.0421\n",
            "Epoch:49, Loss:0.0427\n",
            "Epoch:50, Loss:0.0362\n",
            "Epoch:51, Loss:0.0367\n",
            "Epoch:52, Loss:0.0378\n",
            "Epoch:53, Loss:0.0389\n",
            "Epoch:54, Loss:0.0318\n",
            "Epoch:55, Loss:0.0386\n",
            "Epoch:56, Loss:0.0430\n",
            "Epoch:57, Loss:0.0393\n",
            "Epoch:58, Loss:0.0360\n",
            "Epoch:59, Loss:0.0415\n",
            "Epoch:60, Loss:0.0388\n",
            "Epoch:61, Loss:0.0370\n",
            "Epoch:62, Loss:0.0354\n",
            "Epoch:63, Loss:0.0365\n",
            "Epoch:64, Loss:0.0328\n",
            "Epoch:65, Loss:0.0351\n",
            "Epoch:66, Loss:0.0355\n",
            "Epoch:67, Loss:0.0399\n",
            "Epoch:68, Loss:0.0408\n",
            "Epoch:69, Loss:0.0332\n",
            "Epoch:70, Loss:0.0423\n",
            "Epoch:71, Loss:0.0397\n",
            "Epoch:72, Loss:0.0415\n",
            "Epoch:73, Loss:0.0385\n",
            "Epoch:74, Loss:0.0324\n",
            "Epoch:75, Loss:0.0363\n",
            "Epoch:76, Loss:0.0415\n",
            "Epoch:77, Loss:0.0281\n",
            "Epoch:78, Loss:0.0430\n",
            "Epoch:79, Loss:0.0397\n",
            "Epoch:80, Loss:0.0349\n",
            "Epoch:81, Loss:0.0376\n",
            "Epoch:82, Loss:0.0331\n",
            "Epoch:83, Loss:0.0338\n",
            "Epoch:84, Loss:0.0454\n",
            "Epoch:85, Loss:0.0370\n",
            "Epoch:86, Loss:0.0376\n",
            "Epoch:87, Loss:0.0304\n",
            "Epoch:88, Loss:0.0411\n",
            "Epoch:89, Loss:0.0364\n",
            "Epoch:90, Loss:0.0341\n",
            "Epoch:91, Loss:0.0379\n",
            "Epoch:92, Loss:0.0330\n",
            "Epoch:93, Loss:0.0345\n",
            "Epoch:94, Loss:0.0357\n",
            "Epoch:95, Loss:0.0327\n",
            "Epoch:96, Loss:0.0348\n",
            "Epoch:97, Loss:0.0410\n",
            "Epoch:98, Loss:0.0369\n",
            "Epoch:99, Loss:0.0370\n",
            "Epoch:100, Loss:0.0360\n"
          ]
        }
      ]
    },
    {
      "cell_type": "markdown",
      "source": [
        "Determine the accuracy of the Random Forest classifier on the reduced data"
      ],
      "metadata": {
        "id": "lL6KZgXMYzp4"
      }
    },
    {
      "cell_type": "code",
      "source": [
        "for (img, l) in data_loader_test:\n",
        "    item = img.reshape(-1, 28 * 28)\n",
        "    enc = model.encoder(item)\n",
        "    enc = enc.detach().numpy()\n",
        "    l = l.detach().numpy()\n",
        "    encPics.append(enc)\n",
        "    labels.append(l)\n",
        "\n",
        "rf = RandomForestClassifier(n_estimators=266, max_depth=11)\n",
        "encPics = np.reshape(encPics, (-1, 2))\n",
        "labels = np.reshape(labels, (-1, 1))\n",
        "labels = labels.ravel()\n",
        "rf.fit(encPics, labels)\n",
        "y_pred_1 = rf.predict(encPics)\n",
        "\n",
        "accscore = accuracy_score(labels, y_pred_1, normalize=True)\n",
        "print(accscore)"
      ],
      "metadata": {
        "colab": {
          "base_uri": "https://localhost:8080/"
        },
        "id": "qApCGZ7QXev8",
        "outputId": "8e021f1f-0879-4168-af8c-e52203f09652"
      },
      "execution_count": 49,
      "outputs": [
        {
          "output_type": "stream",
          "name": "stdout",
          "text": [
            "0.8382\n"
          ]
        }
      ]
    }
  ]
}