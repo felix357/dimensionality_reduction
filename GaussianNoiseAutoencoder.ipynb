{
  "nbformat": 4,
  "nbformat_minor": 0,
  "metadata": {
    "colab": {
      "provenance": []
    },
    "kernelspec": {
      "name": "python3",
      "display_name": "Python 3"
    },
    "language_info": {
      "name": "python"
    }
  },
  "cells": [
    {
      "cell_type": "code",
      "execution_count": 1,
      "metadata": {
        "colab": {
          "base_uri": "https://localhost:8080/",
          "height": 752
        },
        "id": "I-JQk4CVHlHm",
        "outputId": "53b0c037-3378-46d5-cc9f-210bbbd28551"
      },
      "outputs": [
        {
          "output_type": "stream",
          "name": "stdout",
          "text": [
            "Downloading http://yann.lecun.com/exdb/mnist/train-images-idx3-ubyte.gz\n",
            "Downloading http://yann.lecun.com/exdb/mnist/train-images-idx3-ubyte.gz to ./data/MNIST/raw/train-images-idx3-ubyte.gz\n"
          ]
        },
        {
          "output_type": "stream",
          "name": "stderr",
          "text": [
            "100%|██████████| 9912422/9912422 [00:00<00:00, 84788173.39it/s]\n"
          ]
        },
        {
          "output_type": "stream",
          "name": "stdout",
          "text": [
            "Extracting ./data/MNIST/raw/train-images-idx3-ubyte.gz to ./data/MNIST/raw\n",
            "\n",
            "Downloading http://yann.lecun.com/exdb/mnist/train-labels-idx1-ubyte.gz\n",
            "Downloading http://yann.lecun.com/exdb/mnist/train-labels-idx1-ubyte.gz to ./data/MNIST/raw/train-labels-idx1-ubyte.gz\n"
          ]
        },
        {
          "output_type": "stream",
          "name": "stderr",
          "text": [
            "100%|██████████| 28881/28881 [00:00<00:00, 12494656.40it/s]"
          ]
        },
        {
          "output_type": "stream",
          "name": "stdout",
          "text": [
            "Extracting ./data/MNIST/raw/train-labels-idx1-ubyte.gz to ./data/MNIST/raw\n",
            "\n",
            "Downloading http://yann.lecun.com/exdb/mnist/t10k-images-idx3-ubyte.gz\n",
            "Downloading http://yann.lecun.com/exdb/mnist/t10k-images-idx3-ubyte.gz to ./data/MNIST/raw/t10k-images-idx3-ubyte.gz\n"
          ]
        },
        {
          "output_type": "stream",
          "name": "stderr",
          "text": [
            "\n",
            "100%|██████████| 1648877/1648877 [00:00<00:00, 23150822.13it/s]\n"
          ]
        },
        {
          "output_type": "stream",
          "name": "stdout",
          "text": [
            "Extracting ./data/MNIST/raw/t10k-images-idx3-ubyte.gz to ./data/MNIST/raw\n",
            "\n",
            "Downloading http://yann.lecun.com/exdb/mnist/t10k-labels-idx1-ubyte.gz\n",
            "Downloading http://yann.lecun.com/exdb/mnist/t10k-labels-idx1-ubyte.gz to ./data/MNIST/raw/t10k-labels-idx1-ubyte.gz\n"
          ]
        },
        {
          "output_type": "stream",
          "name": "stderr",
          "text": [
            "100%|██████████| 4542/4542 [00:00<00:00, 13559095.21it/s]"
          ]
        },
        {
          "output_type": "stream",
          "name": "stdout",
          "text": [
            "Extracting ./data/MNIST/raw/t10k-labels-idx1-ubyte.gz to ./data/MNIST/raw\n",
            "\n"
          ]
        },
        {
          "output_type": "stream",
          "name": "stderr",
          "text": [
            "\n"
          ]
        },
        {
          "output_type": "stream",
          "name": "stdout",
          "text": [
            "tensor(-4.2617) tensor(6.2805)\n",
            "Epoch:1, Loss:0.0501\n",
            "Epoch:2, Loss:0.0515\n",
            "Epoch:3, Loss:0.0451\n",
            "Epoch:4, Loss:0.0618\n",
            "Epoch:5, Loss:0.0407\n",
            "Epoch:6, Loss:0.0805\n",
            "Epoch:7, Loss:0.0554\n",
            "Epoch:8, Loss:0.0807\n",
            "Epoch:9, Loss:0.0807\n",
            "Epoch:10, Loss:0.0750\n"
          ]
        },
        {
          "output_type": "display_data",
          "data": {
            "text/plain": [
              "<Figure size 900x200 with 2 Axes>"
            ],
            "image/png": "[encoded data removed]"
          },
          "metadata": {}
        }
      ],
      "source": [
        "import torch\n",
        "import torch.nn as nn\n",
        "import torch.optim as optim\n",
        "from torchvision import datasets, transforms\n",
        "import matplotlib.pyplot as plt\n",
        "import random\n",
        "\n",
        "\n",
        "class AddGaussianNoise(object):\n",
        "    def __init__(self, mean=0., std=1.):\n",
        "        self.std = std\n",
        "        self.mean = mean\n",
        "\n",
        "    def __call__(self, tensor):\n",
        "        return tensor + torch.randn(tensor.size()) * self.std + self.mean\n",
        "\n",
        "    def __repr__(self):\n",
        "        return self.__class__.__name__ + '(mean={0}, std={1})'.format(self.mean, self.std)\n",
        "\n",
        "\n",
        "# Define a transform to convert images to tensors\n",
        "transform = transforms.Compose([\n",
        "    transforms.ToTensor(),\n",
        "    transforms.Normalize((0.1307,), (0.3081,)),\n",
        "    AddGaussianNoise(0., 1.)\n",
        "])\n",
        "\n",
        "trans = transforms.ToTensor()\n",
        "\n",
        "# Load the MNIST dataset\n",
        "mnist_data_gauss = datasets.MNIST(root='./data', train=True, download=True, transform=transform)\n",
        "\n",
        "mnist_data = datasets.MNIST(root='./data', train=True, download=True, transform=trans)\n",
        "\n",
        "# Create a data loader to load the data in batches\n",
        "data_loader_gauss = torch.utils.data.DataLoader(dataset=mnist_data_gauss, batch_size=64, shuffle=False)\n",
        "\n",
        "data_loader = torch.utils.data.DataLoader(dataset=mnist_data, batch_size=64, shuffle=False)\n",
        "\n",
        "dataiter = iter(data_loader_gauss)\n",
        "images, labels = dataiter.__next__()\n",
        "print(torch.min(images), torch.max(images))\n",
        "\n",
        "\n",
        "# This is the definition of the Autoencoder model using a neural network with encoder and decoder modules.\n",
        "class Autoencoder(nn.Module):\n",
        "    def __init__(self):\n",
        "        super(Autoencoder, self).__init__()\n",
        "        # N, 784\n",
        "        self.encoder = nn.Sequential(\n",
        "            nn.Linear(784, 392),\n",
        "            nn.ReLU(),\n",
        "            nn.Linear(392, 196),\n",
        "            nn.ReLU(),\n",
        "            nn.Linear(196, 98),\n",
        "            nn.ReLU(),\n",
        "            nn.Linear(98, 49),\n",
        "            # nn.ReLU(),\n",
        "            # nn.Linear(49, 16),\n",
        "            # nn.ReLU(),\n",
        "            # nn.Linear(16, 2)\n",
        "        )\n",
        "\n",
        "        self.decoder = nn.Sequential(\n",
        "            # nn.Linear(2, 16),\n",
        "            # nn.ReLU(),\n",
        "            # nn.Linear(16, 49),\n",
        "            # nn.ReLU(),\n",
        "            nn.Linear(49, 98),\n",
        "            nn.ReLU(),\n",
        "            nn.Linear(98, 196),\n",
        "            nn.ReLU(),\n",
        "            nn.Linear(196, 392),\n",
        "            nn.ReLU(),\n",
        "            nn.Linear(392, 784),\n",
        "            nn.Sigmoid()\n",
        "        )\n",
        "\n",
        "    def forward(self, x):\n",
        "        encoded = self.encoder(x)\n",
        "        decoded = self.decoder(encoded)\n",
        "        return decoded\n",
        "\n",
        "\n",
        "# These lines define the loss function (MSE loss), instantiate the Autoencoder model\n",
        "# learning rate of 1e-3 and L2 regularization with a weight decay of 1e-5.\n",
        "criterion = nn.MSELoss()\n",
        "model = Autoencoder()\n",
        "optimizer = optim.SGD(model.parameters(), lr=0.1, weight_decay=1e-10, momentum=0.9)\n",
        "\n",
        "# train the model over n epochs\n",
        "num_epochs = 10\n",
        "outputs = []\n",
        "\n",
        "for epoch in range(num_epochs):\n",
        "    for j in range(0,500):\n",
        "        rand_index = random.randint(0, 49999)\n",
        "    #for (img, _) in (mnist_data_gauss):\n",
        "        img, _ = mnist_data_gauss[rand_index]\n",
        "        img = img.reshape(-1, 28 * 28)\n",
        "        recon = model(img)\n",
        "        #loss = criterion(recon, img)\n",
        "\n",
        "        real_img, _ = mnist_data[rand_index]\n",
        "        real_img = real_img.reshape(-1, 28 * 28)\n",
        "        loss = criterion(recon, real_img)\n",
        "\n",
        "        optimizer.zero_grad()\n",
        "        loss.backward()\n",
        "        optimizer.step()\n",
        "\n",
        "    print(f'Epoch:{epoch + 1}, Loss:{loss.item():.4f}')\n",
        "    outputs.append((epoch, img, recon))\n",
        "\n",
        "# Plot the resulting images\n",
        "for k in range(0, num_epochs, 20):\n",
        "    plt.figure(figsize=(9, 2))\n",
        "    plt.gray()\n",
        "    imgs = outputs[k][1].detach().numpy()\n",
        "    recon = outputs[k][2].detach().numpy()\n",
        "    for i, item in enumerate(imgs):\n",
        "        if i >= 9: break\n",
        "        plt.subplot(2, 9, i + 1)\n",
        "        item = item.reshape(-1, 28, 28)\n",
        "        plt.imshow(item[0])\n",
        "\n",
        "    for i, item in enumerate(recon):\n",
        "        if i >= 9: break\n",
        "        plt.subplot(2, 9, 9 + i + 1)\n",
        "        item = item.reshape(-1, 28, 28)\n",
        "        plt.imshow(item[0])\n",
        "\n",
        "plt.show()"
      ]
    }
  ]
}