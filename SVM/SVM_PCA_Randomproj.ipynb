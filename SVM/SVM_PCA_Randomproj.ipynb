{
  "nbformat": 4,
  "nbformat_minor": 0,
  "metadata": {
    "colab": {
      "provenance": []
    },
    "kernelspec": {
      "name": "python3",
      "display_name": "Python 3"
    },
    "language_info": {
      "name": "python"
    }
  },
  "cells": [
    {
      "cell_type": "markdown",
      "source": [
        "Import relevant libraries"
      ],
      "metadata": {
        "id": "N9XfS8tLKsmd"
      }
    },
    {
      "cell_type": "code",
      "execution_count": 1,
      "metadata": {
        "id": "2V15NEWUKSAY"
      },
      "outputs": [],
      "source": [
        "from sklearn.svm import LinearSVC\n",
        "from keras.datasets import mnist\n",
        "from numpy import reshape\n",
        "from sklearn.decomposition import PCA\n",
        "from sklearn.preprocessing import StandardScaler\n",
        "import matplotlib.pyplot as plt\n",
        "from sklearn.metrics import accuracy_score\n",
        "from sklearn.random_projection import GaussianRandomProjection"
      ]
    },
    {
      "cell_type": "markdown",
      "source": [
        "Load MNIST Dataset"
      ],
      "metadata": {
        "id": "tYQOWDLZK4kT"
      }
    },
    {
      "cell_type": "code",
      "source": [
        "(x_train, y_train), (x_test, y_test) = mnist.load_data()\n",
        "\n",
        "train_mnist = reshape(x_train, [x_train.shape[0], x_train.shape[1] * x_train.shape[2]])\n",
        "test_mnist = reshape(x_test, [x_test.shape[0], x_test.shape[1] * x_test.shape[2]])"
      ],
      "metadata": {
        "colab": {
          "base_uri": "https://localhost:8080/"
        },
        "id": "VuAIcYtcKYyW",
        "outputId": "1aa14025-e87f-4ac1-ee3f-d144b1c70502"
      },
      "execution_count": 2,
      "outputs": [
        {
          "output_type": "stream",
          "name": "stdout",
          "text": [
            "Downloading data from https://storage.googleapis.com/tensorflow/tf-keras-datasets/mnist.npz\n",
            "11490434/11490434 [==============================] - 0s 0us/step\n"
          ]
        }
      ]
    },
    {
      "cell_type": "markdown",
      "source": [
        "Standardize data"
      ],
      "metadata": {
        "id": "3Avk58RlLAjG"
      }
    },
    {
      "cell_type": "code",
      "source": [
        "scaler = StandardScaler()\n",
        "scaler.fit(test_mnist)\n",
        "test_mnist = scaler.transform(test_mnist)\n",
        "\n",
        "scaler = StandardScaler()\n",
        "scaler.fit(train_mnist)\n",
        "train_mnist = scaler.transform(train_mnist)"
      ],
      "metadata": {
        "id": "gQzMKTRxKbkN"
      },
      "execution_count": 3,
      "outputs": []
    },
    {
      "cell_type": "markdown",
      "source": [
        "Transform the data to dimensionality n using different dimensionality reduction techniques"
      ],
      "metadata": {
        "id": "MI_iuwosLD0X"
      }
    },
    {
      "cell_type": "code",
      "source": [
        "acc_list_1 = []\n",
        "acc_list_2 = []\n",
        "dim_list = []\n",
        "\n",
        "dims = [2, 100, 200, 300, 400, 500, 600, 700, 784]\n",
        "for i in dims:\n",
        "    # PCA projection on n components for training data\n",
        "    pca = PCA(n_components=i)\n",
        "    transformed_train_data_1 = pca.fit_transform(train_mnist)\n",
        "    transformed_test_data_1 = pca.transform(test_mnist)\n",
        "\n",
        "    grp = GaussianRandomProjection(n_components=i)\n",
        "    transformed_train_data_2 = grp.fit_transform(train_mnist)\n",
        "    transformed_test_data_2 = grp.transform(test_mnist)\n",
        "\n",
        "    lsvc_1 = LinearSVC(verbose=0)\n",
        "    lsvc_2 = LinearSVC(verbose=0)\n",
        "    lsvc_3 = LinearSVC(verbose=0)\n",
        "\n",
        "    LinearSVC(C=1.0, class_weight=None, dual=True, fit_intercept=True,\n",
        "          intercept_scaling=1, loss='squared_hinge', max_iter=1000,\n",
        "          multi_class='ovr', penalty='l2', random_state=None, tol=0.0001,\n",
        "          verbose=0)\n",
        "\n",
        "    lsvc_1.fit(transformed_train_data_1, y_train)\n",
        "    y_pred_1 = lsvc_1.predict(transformed_test_data_1)\n",
        "\n",
        "    lsvc_2.fit(transformed_train_data_2, y_train)\n",
        "    y_pred_2 = lsvc_2.predict(transformed_test_data_2)\n",
        "\n",
        "    accscore_1 = accuracy_score(y_test, y_pred_1, normalize=True)\n",
        "    accscore_2 = accuracy_score(y_test, y_pred_2, normalize=True)\n",
        "    print(accscore_1)\n",
        "    print(accscore_2)\n",
        "    acc_list_1.append(accscore_1)\n",
        "    acc_list_2.append(accscore_2)\n",
        "    dim_list.append(i)\n",
        "\n",
        "print(*acc_list_1, sep=\", acc: \")\n",
        "print(*acc_list_2, sep=\", acc: \")\n",
        "print(*dim_list, sep=\", dim: \")"
      ],
      "metadata": {
        "colab": {
          "base_uri": "https://localhost:8080/"
        },
        "id": "D1gIcJP6KaGD",
        "outputId": "905547b7-1c02-447c-cf98-6b2e49ee5858"
      },
      "execution_count": 4,
      "outputs": [
        {
          "metadata": {
            "tags": null
          },
          "name": "stderr",
          "output_type": "stream",
          "text": [
            "/usr/local/lib/python3.10/dist-packages/sklearn/svm/_base.py:1244: ConvergenceWarning: Liblinear failed to converge, increase the number of iterations.\n",
            "  warnings.warn(\n",
            "/usr/local/lib/python3.10/dist-packages/sklearn/svm/_base.py:1244: ConvergenceWarning: Liblinear failed to converge, increase the number of iterations.\n",
            "  warnings.warn(\n"
          ]
        },
        {
          "metadata": {
            "tags": null
          },
          "name": "stdout",
          "output_type": "stream",
          "text": [
            "0.3205\n",
            "0.195\n"
          ]
        },
        {
          "metadata": {
            "tags": null
          },
          "name": "stderr",
          "output_type": "stream",
          "text": [
            "/usr/local/lib/python3.10/dist-packages/sklearn/svm/_base.py:1244: ConvergenceWarning: Liblinear failed to converge, increase the number of iterations.\n",
            "  warnings.warn(\n",
            "/usr/local/lib/python3.10/dist-packages/sklearn/svm/_base.py:1244: ConvergenceWarning: Liblinear failed to converge, increase the number of iterations.\n",
            "  warnings.warn(\n"
          ]
        },
        {
          "metadata": {
            "tags": null
          },
          "name": "stdout",
          "output_type": "stream",
          "text": [
            "0.9067\n",
            "0.8469\n"
          ]
        },
        {
          "metadata": {
            "tags": null
          },
          "name": "stderr",
          "output_type": "stream",
          "text": [
            "/usr/local/lib/python3.10/dist-packages/sklearn/svm/_base.py:1244: ConvergenceWarning: Liblinear failed to converge, increase the number of iterations.\n",
            "  warnings.warn(\n",
            "/usr/local/lib/python3.10/dist-packages/sklearn/svm/_base.py:1244: ConvergenceWarning: Liblinear failed to converge, increase the number of iterations.\n",
            "  warnings.warn(\n"
          ]
        },
        {
          "metadata": {
            "tags": null
          },
          "name": "stdout",
          "output_type": "stream",
          "text": [
            "0.9119\n",
            "0.8922\n"
          ]
        },
        {
          "metadata": {
            "tags": null
          },
          "name": "stderr",
          "output_type": "stream",
          "text": [
            "/usr/local/lib/python3.10/dist-packages/sklearn/svm/_base.py:1244: ConvergenceWarning: Liblinear failed to converge, increase the number of iterations.\n",
            "  warnings.warn(\n",
            "/usr/local/lib/python3.10/dist-packages/sklearn/svm/_base.py:1244: ConvergenceWarning: Liblinear failed to converge, increase the number of iterations.\n",
            "  warnings.warn(\n"
          ]
        },
        {
          "metadata": {
            "tags": null
          },
          "name": "stdout",
          "output_type": "stream",
          "text": [
            "0.9137\n",
            "0.9062\n"
          ]
        },
        {
          "metadata": {
            "tags": null
          },
          "name": "stderr",
          "output_type": "stream",
          "text": [
            "/usr/local/lib/python3.10/dist-packages/sklearn/svm/_base.py:1244: ConvergenceWarning: Liblinear failed to converge, increase the number of iterations.\n",
            "  warnings.warn(\n",
            "/usr/local/lib/python3.10/dist-packages/sklearn/svm/_base.py:1244: ConvergenceWarning: Liblinear failed to converge, increase the number of iterations.\n",
            "  warnings.warn(\n"
          ]
        },
        {
          "metadata": {
            "tags": null
          },
          "name": "stdout",
          "output_type": "stream",
          "text": [
            "0.9113\n",
            "0.9062\n"
          ]
        },
        {
          "metadata": {
            "tags": null
          },
          "name": "stderr",
          "output_type": "stream",
          "text": [
            "/usr/local/lib/python3.10/dist-packages/sklearn/svm/_base.py:1244: ConvergenceWarning: Liblinear failed to converge, increase the number of iterations.\n",
            "  warnings.warn(\n",
            "/usr/local/lib/python3.10/dist-packages/sklearn/svm/_base.py:1244: ConvergenceWarning: Liblinear failed to converge, increase the number of iterations.\n",
            "  warnings.warn(\n"
          ]
        },
        {
          "metadata": {
            "tags": null
          },
          "name": "stdout",
          "output_type": "stream",
          "text": [
            "0.9127\n",
            "0.913\n"
          ]
        },
        {
          "metadata": {
            "tags": null
          },
          "name": "stderr",
          "output_type": "stream",
          "text": [
            "/usr/local/lib/python3.10/dist-packages/sklearn/svm/_base.py:1244: ConvergenceWarning: Liblinear failed to converge, increase the number of iterations.\n",
            "  warnings.warn(\n",
            "/usr/local/lib/python3.10/dist-packages/sklearn/svm/_base.py:1244: ConvergenceWarning: Liblinear failed to converge, increase the number of iterations.\n",
            "  warnings.warn(\n"
          ]
        },
        {
          "metadata": {
            "tags": null
          },
          "name": "stdout",
          "output_type": "stream",
          "text": [
            "0.9136\n",
            "0.9103\n"
          ]
        },
        {
          "metadata": {
            "tags": null
          },
          "name": "stderr",
          "output_type": "stream",
          "text": [
            "/usr/local/lib/python3.10/dist-packages/sklearn/svm/_base.py:1244: ConvergenceWarning: Liblinear failed to converge, increase the number of iterations.\n",
            "  warnings.warn(\n",
            "/usr/local/lib/python3.10/dist-packages/sklearn/svm/_base.py:1244: ConvergenceWarning: Liblinear failed to converge, increase the number of iterations.\n",
            "  warnings.warn(\n"
          ]
        },
        {
          "metadata": {
            "tags": null
          },
          "name": "stdout",
          "output_type": "stream",
          "text": [
            "0.9113\n",
            "0.912\n"
          ]
        },
        {
          "metadata": {
            "tags": null
          },
          "name": "stderr",
          "output_type": "stream",
          "text": [
            "/usr/local/lib/python3.10/dist-packages/sklearn/svm/_base.py:1244: ConvergenceWarning: Liblinear failed to converge, increase the number of iterations.\n",
            "  warnings.warn(\n"
          ]
        },
        {
          "output_type": "stream",
          "name": "stdout",
          "text": [
            "0.9099\n",
            "0.911\n",
            "0.3205, acc: 0.9067, acc: 0.9119, acc: 0.9137, acc: 0.9113, acc: 0.9127, acc: 0.9136, acc: 0.9113, acc: 0.9099\n",
            "0.195, acc: 0.8469, acc: 0.8922, acc: 0.9062, acc: 0.9062, acc: 0.913, acc: 0.9103, acc: 0.912, acc: 0.911\n",
            "2, dim: 100, dim: 200, dim: 300, dim: 400, dim: 500, dim: 600, dim: 700, dim: 784\n"
          ]
        },
        {
          "output_type": "stream",
          "name": "stderr",
          "text": [
            "/usr/local/lib/python3.10/dist-packages/sklearn/svm/_base.py:1244: ConvergenceWarning: Liblinear failed to converge, increase the number of iterations.\n",
            "  warnings.warn(\n"
          ]
        }
      ]
    },
    {
      "cell_type": "markdown",
      "source": [
        "Plot the accuracy for the different dimensionality reduction techniques"
      ],
      "metadata": {
        "id": "eRG3drYuLJbg"
      }
    },
    {
      "cell_type": "code",
      "source": [
        "plt.plot(dim_list, acc_list_1, label='reduced with PCA')\n",
        "plt.plot(dim_list, acc_list_2, label='reduced with Gaussian Random Projection')\n",
        "\n",
        "lsvc_3.fit(train_mnist, y_train)\n",
        "y_pred_3 = lsvc_3.predict(test_mnist)\n",
        "\n",
        "print(accuracy_score(y_test, y_pred_3, normalize=True))\n",
        "\n",
        "plt.axhline(accuracy_score(y_test, y_pred_3, normalize=True), label ='MNIST Dataset', color='#2ca02c')\n",
        "plt.xlabel(\"Dimension\")\n",
        "plt.ylabel(\"Accuracy using SVM\")\n",
        "plt.legend()\n",
        "plt.show()"
      ],
      "metadata": {
        "colab": {
          "base_uri": "https://localhost:8080/",
          "height": 524
        },
        "id": "neHeNzmVKrC_",
        "outputId": "4acd0467-930a-4436-865a-d93f6c5cff4e"
      },
      "execution_count": 5,
      "outputs": [
        {
          "output_type": "stream",
          "name": "stderr",
          "text": [
            "/usr/local/lib/python3.10/dist-packages/sklearn/svm/_base.py:1244: ConvergenceWarning: Liblinear failed to converge, increase the number of iterations.\n",
            "  warnings.warn(\n"
          ]
        },
        {
          "output_type": "stream",
          "name": "stdout",
          "text": [
            "0.9125\n"
          ]
        },
        {
          "output_type": "display_data",
          "data": {
            "text/plain": [
              "<Figure size 640x480 with 1 Axes>"
            ],
            "image/png": "[encoded data removed]"
          },
          "metadata": {}
        }
      ]
    }
  ]
}