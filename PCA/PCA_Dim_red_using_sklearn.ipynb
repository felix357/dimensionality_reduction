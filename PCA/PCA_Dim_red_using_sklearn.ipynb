{
  "nbformat": 4,
  "nbformat_minor": 0,
  "metadata": {
    "colab": {
      "provenance": []
    },
    "kernelspec": {
      "name": "python3",
      "display_name": "Python 3"
    },
    "language_info": {
      "name": "python"
    }
  },
  "cells": [
    {
      "cell_type": "markdown",
      "source": [
        "Import relevant libraries"
      ],
      "metadata": {
        "id": "M0t87PhkuA1U"
      }
    },
    {
      "cell_type": "code",
      "source": [
        "import numpy as np\n",
        "import pandas as pd\n",
        "import matplotlib.pyplot as plt\n",
        "from zipfile import ZipFile\n",
        "from sklearn.preprocessing import StandardScaler\n",
        "from sklearn import decomposition\n",
        "import seaborn as sn"
      ],
      "metadata": {
        "id": "uAt5D3XTtgsh"
      },
      "execution_count": 49,
      "outputs": []
    },
    {
      "cell_type": "markdown",
      "source": [
        "Load data out of Zip file"
      ],
      "metadata": {
        "id": "uU7ZXak-uOpV"
      }
    },
    {
      "cell_type": "code",
      "execution_count": 50,
      "metadata": {
        "colab": {
          "base_uri": "https://localhost:8080/"
        },
        "id": "H5MzuVSet0zw",
        "outputId": "26ecf4f1-3154-47f5-cab6-d0a7bc4ef900"
      },
      "outputs": [
        {
          "output_type": "stream",
          "name": "stdout",
          "text": [
            "Done\n"
          ]
        }
      ],
      "source": [
        "file_name = \"digit-recognizer.zip\"\n",
        "\n",
        "with ZipFile(file_name, 'r') as zip:\n",
        "  zip.extractall()\n",
        "  print('Done')"
      ]
    },
    {
      "cell_type": "code",
      "source": [
        "d0 = pd.read_csv('train.csv')\n",
        "\n",
        "# Print first 2 rows\n",
        "print(d0.head(2))\n",
        "\n",
        "l = d0['label']\n",
        "\n",
        "d = d0.drop(\"label\",axis=1)"
      ],
      "metadata": {
        "id": "iRahXLF0t33f",
        "outputId": "6f1e9b2d-1d1c-471c-c195-d25befc3c3b9",
        "colab": {
          "base_uri": "https://localhost:8080/"
        }
      },
      "execution_count": 51,
      "outputs": [
        {
          "output_type": "stream",
          "name": "stdout",
          "text": [
            "   label  pixel0  pixel1  pixel2  pixel3  pixel4  pixel5  pixel6  pixel7  \\\n",
            "0      1       0       0       0       0       0       0       0       0   \n",
            "1      0       0       0       0       0       0       0       0       0   \n",
            "\n",
            "   pixel8  ...  pixel774  pixel775  pixel776  pixel777  pixel778  pixel779  \\\n",
            "0       0  ...         0         0         0         0         0         0   \n",
            "1       0  ...         0         0         0         0         0         0   \n",
            "\n",
            "   pixel780  pixel781  pixel782  pixel783  \n",
            "0         0         0         0         0  \n",
            "1         0         0         0         0  \n",
            "\n",
            "[2 rows x 785 columns]\n"
          ]
        }
      ]
    },
    {
      "cell_type": "code",
      "source": [
        "labels = l\n",
        "data = d"
      ],
      "metadata": {
        "id": "3MOJ_599t7Gz"
      },
      "execution_count": 52,
      "outputs": []
    },
    {
      "cell_type": "markdown",
      "source": [
        "Standardize the data"
      ],
      "metadata": {
        "id": "FCj5t_vdufiP"
      }
    },
    {
      "cell_type": "code",
      "source": [
        "standardized_data = StandardScaler().fit_transform(data)\n",
        "print(standardized_data.shape)\n",
        "\n",
        "sample_data = standardized_data"
      ],
      "metadata": {
        "id": "HEF_oSnmt9zB",
        "outputId": "c96ccff7-766f-43c5-e0a7-d136505b8e1e",
        "colab": {
          "base_uri": "https://localhost:8080/"
        }
      },
      "execution_count": 53,
      "outputs": [
        {
          "output_type": "stream",
          "name": "stdout",
          "text": [
            "(42000, 784)\n"
          ]
        }
      ]
    },
    {
      "cell_type": "markdown",
      "source": [
        "initializing PCA"
      ],
      "metadata": {
        "id": "zV4K_PXfukQ5"
      }
    },
    {
      "cell_type": "code",
      "source": [
        "pca = decomposition.PCA()"
      ],
      "metadata": {
        "id": "nepEP0O0uJsp"
      },
      "execution_count": 54,
      "outputs": []
    },
    {
      "cell_type": "markdown",
      "source": [
        "configuring the number of components"
      ],
      "metadata": {
        "id": "WKxmqZl_uqhu"
      }
    },
    {
      "cell_type": "code",
      "source": [
        "pca.n_components = 2\n",
        "pca_data = pca.fit_transform(sample_data)\n",
        "\n",
        "print(\"shape of reduced data: \", pca_data.shape)"
      ],
      "metadata": {
        "id": "JMWoSiu8uMDz",
        "outputId": "d30ee3ed-5bb4-480d-f8d1-93d22100b2a5",
        "colab": {
          "base_uri": "https://localhost:8080/"
        }
      },
      "execution_count": 55,
      "outputs": [
        {
          "output_type": "stream",
          "name": "stdout",
          "text": [
            "shape of reduced data:  (42000, 2)\n"
          ]
        }
      ]
    },
    {
      "cell_type": "markdown",
      "source": [
        "Determine the loss for PCA"
      ],
      "metadata": {
        "id": "bpBQKE1JvBEN"
      }
    },
    {
      "cell_type": "code",
      "source": [
        "invers = pca.inverse_transform(pca_data)\n",
        "\n",
        "X_projected2 = pca_data.dot(pca.components_) + pca.mean_\n",
        "\n",
        "loss = np.sum((data - invers) ** 2, axis=1).mean()\n",
        "\n",
        "print(loss)"
      ],
      "metadata": {
        "colab": {
          "base_uri": "https://localhost:8080/"
        },
        "id": "M9Wv2zf_f8Iy",
        "outputId": "719d5ece-9470-4f1f-a4e7-36fe603168d3"
      },
      "execution_count": 56,
      "outputs": [
        {
          "output_type": "stream",
          "name": "stdout",
          "text": [
            "5716956.832893658\n"
          ]
        }
      ]
    },
    {
      "cell_type": "markdown",
      "source": [
        "Prepare Data for plotting"
      ],
      "metadata": {
        "id": "kyUb9POCvi6S"
      }
    },
    {
      "cell_type": "code",
      "source": [
        "# Add label for the 2-d data points\n",
        "pca_data = np.vstack((pca_data.T, labels)).T\n",
        "\n",
        "# Create a new data fram for plotting\n",
        "pca_df = pd.DataFrame(data=pca_data, columns=(\"1st_principal\", \"2nd_principal\", \"label\"))"
      ],
      "metadata": {
        "id": "hr2fyqduuOhH"
      },
      "execution_count": 57,
      "outputs": []
    },
    {
      "cell_type": "markdown",
      "source": [
        "Plot the 2d data points"
      ],
      "metadata": {
        "id": "wwzouhorvX2T"
      }
    },
    {
      "cell_type": "code",
      "source": [
        "sn.FacetGrid(pca_df, hue=\"label\").map(plt.scatter, '1st_principal', '2nd_principal').add_legend()\n",
        "plt.show()"
      ],
      "metadata": {
        "id": "TzND1YQWuQK_",
        "outputId": "7a34ff35-3df3-4614-cee6-58489a8dac9a",
        "colab": {
          "base_uri": "https://localhost:8080/",
          "height": 307
        }
      },
      "execution_count": 58,
      "outputs": [
        {
          "output_type": "display_data",
          "data": {
            "text/plain": [
              "<Figure size 372x300 with 1 Axes>"
            ],
            "image/png": "[encoded data removed]"
          },
          "metadata": {}
        }
      ]
    }
  ]
}