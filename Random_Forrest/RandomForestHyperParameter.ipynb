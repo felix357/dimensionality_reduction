{
  "nbformat": 4,
  "nbformat_minor": 0,
  "metadata": {
    "colab": {
      "provenance": []
    },
    "kernelspec": {
      "name": "python3",
      "display_name": "Python 3"
    },
    "language_info": {
      "name": "python"
    }
  },
  "cells": [
    {
      "cell_type": "markdown",
      "source": [
        "Import relevant libraries"
      ],
      "metadata": {
        "id": "nK5ljUFkMpZC"
      }
    },
    {
      "cell_type": "code",
      "execution_count": 1,
      "metadata": {
        "id": "T8DQJnqwMVfH"
      },
      "outputs": [],
      "source": [
        "from sklearn.ensemble import RandomForestClassifier\n",
        "from sklearn.model_selection import RandomizedSearchCV\n",
        "from scipy.stats import randint\n",
        "from numpy import reshape\n",
        "from sklearn.preprocessing import StandardScaler\n",
        "from keras.datasets import mnist"
      ]
    },
    {
      "cell_type": "markdown",
      "source": [],
      "metadata": {
        "id": "9lrsMWnpMrCT"
      }
    },
    {
      "cell_type": "code",
      "source": [
        "(x_train, y_train), (x_test, y_test) = mnist.load_data()\n",
        "train_mnist = reshape(x_train, [x_train.shape[0], x_train.shape[1] * x_train.shape[2]])\n",
        "test_mnist = reshape(x_test, [x_test.shape[0], x_test.shape[1] * x_test.shape[2]])"
      ],
      "metadata": {
        "colab": {
          "base_uri": "https://localhost:8080/"
        },
        "id": "kujPCyz3MdiO",
        "outputId": "99207eae-02ff-43f3-81ae-56aaca74bd36"
      },
      "execution_count": 2,
      "outputs": [
        {
          "output_type": "stream",
          "name": "stdout",
          "text": [
            "Downloading data from https://storage.googleapis.com/tensorflow/tf-keras-datasets/mnist.npz\n",
            "11490434/11490434 [==============================] - 0s 0us/step\n"
          ]
        }
      ]
    },
    {
      "cell_type": "markdown",
      "source": [
        "standardize data"
      ],
      "metadata": {
        "id": "yiIBKRA9Mrjp"
      }
    },
    {
      "cell_type": "code",
      "source": [
        "scaler = StandardScaler()\n",
        "scaler.fit(test_mnist)\n",
        "test_mnist = scaler.transform(test_mnist)\n",
        "\n",
        "scaler = StandardScaler()\n",
        "scaler.fit(train_mnist)\n",
        "train_mnist = scaler.transform(train_mnist)"
      ],
      "metadata": {
        "id": "-sQ9IgLuMfiX"
      },
      "execution_count": 3,
      "outputs": []
    },
    {
      "cell_type": "markdown",
      "source": [
        "Search for optimal parameters for the random forest classifier"
      ],
      "metadata": {
        "id": "4k9N3JYUMskM"
      }
    },
    {
      "cell_type": "code",
      "source": [
        "#parameter search:\n",
        "param_dist = {'n_estimators': randint(50,500),\n",
        "              'max_depth': randint(1,20)}\n",
        "\n",
        "# Create a random forest classifier\n",
        "rf = RandomForestClassifier()\n",
        "\n",
        "# Use random search to find the best hyperparameters\n",
        "rand_search = RandomizedSearchCV(rf,\n",
        "                                 param_distributions = param_dist,\n",
        "                                 n_iter=5,\n",
        "                                 cv=5)\n",
        "\n",
        "# Fit the random search object to the data\n",
        "rand_search.fit(train_mnist, y_train)\n",
        "\n",
        "# Create a variable for the best model\n",
        "best_rf = rand_search.best_estimator_\n",
        "\n",
        "# Print the best hyperparameters\n",
        "print('Best hyperparameters:',  rand_search.best_params_)"
      ],
      "metadata": {
        "colab": {
          "base_uri": "https://localhost:8080/"
        },
        "id": "YyKd5EvcMeWr",
        "outputId": "6549bb79-2ece-421d-b2be-9803bc23e41d"
      },
      "execution_count": 4,
      "outputs": [
        {
          "output_type": "stream",
          "name": "stdout",
          "text": [
            "Best hyperparameters: {'max_depth': 18, 'n_estimators': 464}\n"
          ]
        }
      ]
    }
  ]
}