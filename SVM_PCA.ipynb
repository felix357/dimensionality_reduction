{
  "cells": [
    {
      "cell_type": "code",
      "execution_count": null,
      "metadata": {
        "id": "Jdpa-L5dU9ZG"
      },
      "outputs": [],
      "source": [
        "from sklearn.svm import LinearSVC\n",
        "from sklearn.metrics import confusion_matrix\n",
        "from sklearn.metrics import classification_report\n",
        "from keras.datasets import mnist\n",
        "from numpy import reshape\n",
        "from sklearn.decomposition import PCA\n",
        "from sklearn.preprocessing import StandardScaler\n",
        "import matplotlib.pyplot as plt\n",
        "from sklearn.metrics import accuracy_score\n",
        "\n",
        "(x_train, y_train), (x_test, y_test) = mnist.load_data()\n",
        "#x_train = x_train[0:10000]\n",
        "#y_train = y_train[0:10000]\n",
        "\n",
        "train_mnist = reshape(x_train, [x_train.shape[0], x_train.shape[1] * x_train.shape[2]])\n",
        "test_mnist = reshape(x_test, [x_test.shape[0], x_test.shape[1] * x_test.shape[2]])"
      ]
    },
    {
      "cell_type": "code",
      "source": [
        "# standardize data\n",
        "scaler = StandardScaler()\n",
        "scaler.fit(test_mnist)\n",
        "test_mnist = scaler.transform(test_mnist)\n",
        "\n",
        "scaler = StandardScaler()\n",
        "scaler.fit(train_mnist)\n",
        "train_mnist = scaler.transform(train_mnist)"
      ],
      "metadata": {
        "id": "EMY268myFE33"
      },
      "execution_count": null,
      "outputs": []
    },
    {
      "cell_type": "code",
      "execution_count": null,
      "metadata": {
        "id": "yL7xpYBmVtEK"
      },
      "outputs": [],
      "source": [
        "# PCA prejection on 2 components for training data\n",
        "pca = PCA(n_components=2)\n",
        "transformed_train_data = pca.fit_transform(train_mnist)\n",
        "transformed_test_data = pca.transform(test_mnist)"
      ]
    },
    {
      "cell_type": "code",
      "execution_count": null,
      "metadata": {
        "id": "swZV-LsQWpnd"
      },
      "outputs": [],
      "source": [
        "# Generate SVC Model\n",
        "from sklearn import svm\n",
        "\n",
        "# Create a svm Classifier\n",
        "clf = svm.SVC(kernel='rbf' ,cache_size=2000, C=10, gamma=0.001)\n",
        "\n",
        "# Train the model using the training sets\n",
        "clf.fit(transformed_train_data,y_train)\n",
        "\n",
        "# Predict the response for test dataset\n",
        "y_pred = clf.predict(transformed_test_data)\n"
      ]
    },
    {
      "cell_type": "code",
      "execution_count": null,
      "metadata": {
        "id": "u57FHLpUdp2e",
        "colab": {
          "base_uri": "https://localhost:8080/"
        },
        "outputId": "4a3db5b9-5737-4915-a7d7-81e691184e5e"
      },
      "outputs": [
        {
          "output_type": "stream",
          "name": "stdout",
          "text": [
            "Accuracy:  0.3619\n"
          ]
        }
      ],
      "source": [
        "from sklearn import metrics\n",
        "\n",
        "print(\"Accuracy: \", metrics.accuracy_score(y_test, y_pred))"
      ]
    }
  ],
  "metadata": {
    "colab": {
      "provenance": []
    },
    "kernelspec": {
      "display_name": "Python 3",
      "name": "python3"
    },
    "language_info": {
      "name": "python"
    }
  },
  "nbformat": 4,
  "nbformat_minor": 0
}