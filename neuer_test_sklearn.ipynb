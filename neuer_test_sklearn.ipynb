{
  "nbformat": 4,
  "nbformat_minor": 0,
  "metadata": {
    "colab": {
      "provenance": []
    },
    "kernelspec": {
      "name": "python3",
      "display_name": "Python 3"
    },
    "language_info": {
      "name": "python"
    }
  },
  "cells": [
    {
      "cell_type": "code",
      "execution_count": null,
      "metadata": {
        "colab": {
          "base_uri": "https://localhost:8080/"
        },
        "id": "H5MzuVSet0zw",
        "outputId": "bb3d5eaf-9653-42d7-9fcc-ddd091d1517f"
      },
      "outputs": [
        {
          "output_type": "stream",
          "name": "stdout",
          "text": [
            "Done\n"
          ]
        }
      ],
      "source": [
        "from zipfile import ZipFile\n",
        "file_name = \"digit-recognizer.zip\"\n",
        "\n",
        "with ZipFile(file_name, 'r') as zip:\n",
        "  zip.extractall()\n",
        "  print('Done')"
      ]
    },
    {
      "cell_type": "code",
      "source": [
        "# MNIST dataset downloaded from Kaggle : \n",
        "#(https://www.kaggle.com/c/digit-recognizer/data)\n",
        "\n",
        "# See tutorial: https://github.com/ranasingh-gkp/PCA-TSNE-on-MNIST-dataset/blob/master/14_15_16(PCA%2CT_SNE).ipynb\n",
        "\n",
        "# Functions to read and show images.\n",
        "\n",
        "import numpy as np\n",
        "import pandas as pd\n",
        "import matplotlib.pyplot as plt\n",
        "\n",
        "\n",
        "   \n",
        "d0 = pd.read_csv('train.csv')\n",
        "\n",
        "print(d0.head(5)) # print first five rows of d0.\n",
        "\n",
        "# save the labels into a variable l.\n",
        "l = d0['label']\n",
        "\n",
        "# Drop the label feature and store the pixel data in d.\n",
        "d = d0.drop(\"label\",axis=1)"
      ],
      "metadata": {
        "id": "iRahXLF0t33f",
        "outputId": "0800527a-b2a1-40eb-d971-bc92f3aacd3b",
        "colab": {
          "base_uri": "https://localhost:8080/"
        }
      },
      "execution_count": null,
      "outputs": [
        {
          "output_type": "stream",
          "name": "stdout",
          "text": [
            "   label  pixel0  pixel1  pixel2  pixel3  pixel4  pixel5  pixel6  pixel7  \\\n",
            "0      1       0       0       0       0       0       0       0       0   \n",
            "1      0       0       0       0       0       0       0       0       0   \n",
            "2      1       0       0       0       0       0       0       0       0   \n",
            "3      4       0       0       0       0       0       0       0       0   \n",
            "4      0       0       0       0       0       0       0       0       0   \n",
            "\n",
            "   pixel8  ...  pixel774  pixel775  pixel776  pixel777  pixel778  pixel779  \\\n",
            "0       0  ...         0         0         0         0         0         0   \n",
            "1       0  ...         0         0         0         0         0         0   \n",
            "2       0  ...         0         0         0         0         0         0   \n",
            "3       0  ...         0         0         0         0         0         0   \n",
            "4       0  ...         0         0         0         0         0         0   \n",
            "\n",
            "   pixel780  pixel781  pixel782  pixel783  \n",
            "0         0         0         0         0  \n",
            "1         0         0         0         0  \n",
            "2         0         0         0         0  \n",
            "3         0         0         0         0  \n",
            "4         0         0         0         0  \n",
            "\n",
            "[5 rows x 785 columns]\n"
          ]
        }
      ]
    },
    {
      "cell_type": "code",
      "source": [
        "labels = l#.head(15000)\n",
        "data = d#.head(15000)"
      ],
      "metadata": {
        "id": "3MOJ_599t7Gz"
      },
      "execution_count": null,
      "outputs": []
    },
    {
      "cell_type": "code",
      "source": [
        "# Data-preprocessing: Standardizing the data\n",
        "#https://scikit-learn.org/stable/modules/generated/sklearn.preprocessing.StandardScaler.html\n",
        "\n",
        "from sklearn.preprocessing import StandardScaler\n",
        "standardized_data = StandardScaler().fit_transform(data)\n",
        "print(standardized_data.shape)\n",
        "\n",
        "sample_data = standardized_data"
      ],
      "metadata": {
        "id": "HEF_oSnmt9zB",
        "outputId": "73bd3195-38c7-4d97-85d3-ba9111640f11",
        "colab": {
          "base_uri": "https://localhost:8080/"
        }
      },
      "execution_count": null,
      "outputs": [
        {
          "output_type": "stream",
          "name": "stdout",
          "text": [
            "(42000, 784)\n"
          ]
        }
      ]
    },
    {
      "cell_type": "code",
      "source": [
        "# initializing the pca\n",
        "from sklearn import decomposition\n",
        "pca = decomposition.PCA()"
      ],
      "metadata": {
        "id": "nepEP0O0uJsp"
      },
      "execution_count": null,
      "outputs": []
    },
    {
      "cell_type": "code",
      "source": [
        "# configuring the parameteres\n",
        "# the number of components = 2\n",
        "pca.n_components = 2\n",
        "pca_data = pca.fit_transform(sample_data)\n",
        "\n",
        "# pca_reduced will contain the 2-d projects of simple data\n",
        "print(\"shape of pca_reduced.shape = \", pca_data.shape)"
      ],
      "metadata": {
        "id": "JMWoSiu8uMDz",
        "outputId": "0f221872-59f7-4104-c330-48bdf1e1a831",
        "colab": {
          "base_uri": "https://localhost:8080/"
        }
      },
      "execution_count": null,
      "outputs": [
        {
          "output_type": "stream",
          "name": "stdout",
          "text": [
            "shape of pca_reduced.shape =  (42000, 2)\n"
          ]
        }
      ]
    },
    {
      "cell_type": "code",
      "source": [
        "# Determine the loss of PCA\n",
        "\n",
        "print(pca_data.shape)\n",
        "\n",
        "invers = pca.inverse_transform(pca_data)\n",
        "X_projected2 = pca_data.dot(pca.components_) + pca.mean_\n",
        "\n",
        "loss = np.sum((data - invers) ** 2, axis=1).mean()\n",
        "\n",
        "print(loss)"
      ],
      "metadata": {
        "colab": {
          "base_uri": "https://localhost:8080/"
        },
        "id": "M9Wv2zf_f8Iy",
        "outputId": "f98f1bd0-17f5-4731-c6a8-df7b9b9d6162"
      },
      "execution_count": null,
      "outputs": [
        {
          "output_type": "stream",
          "name": "stdout",
          "text": [
            "(42000, 2)\n",
            "5716956.7958491845\n"
          ]
        }
      ]
    },
    {
      "cell_type": "code",
      "source": [
        "#import matplotlib.pyplot as plt\n",
        "\n",
        "\n",
        "\n",
        "#plt.figure(figsize=(28,28))\n",
        "#for i in range(5):\n",
        "#  plt.subplot(4,5,i+1)\n",
        "#  print(X_projected2.shape)\n",
        "#  plt.imshow(X_projected2, cmap='gray')\n",
        "#  plt.axis('off')\n",
        "#plt.show()"
      ],
      "metadata": {
        "id": "VoAUsP8NhVDk"
      },
      "execution_count": null,
      "outputs": []
    },
    {
      "cell_type": "code",
      "source": [
        "# attaching the label for each 2-d data point \n",
        "pca_data = np.vstack((pca_data.T, labels)).T\n",
        "\n",
        "# creating a new data fram which help us in ploting the result data\n",
        "pca_df = pd.DataFrame(data=pca_data, columns=(\"1st_principal\", \"2nd_principal\", \"label\"))"
      ],
      "metadata": {
        "id": "hr2fyqduuOhH"
      },
      "execution_count": null,
      "outputs": []
    },
    {
      "cell_type": "code",
      "source": [
        "# ploting the 2d data points with seaborn\n",
        "import seaborn as sn\n",
        "sn.FacetGrid(pca_df, hue=\"label\").map(plt.scatter, '1st_principal', '2nd_principal').add_legend()\n",
        "plt.show()"
      ],
      "metadata": {
        "id": "TzND1YQWuQK_",
        "outputId": "45e640a1-0bea-4d59-c7cf-9e2b4f4bdc4a",
        "colab": {
          "base_uri": "https://localhost:8080/",
          "height": 307
        }
      },
      "execution_count": null,
      "outputs": [
        {
          "output_type": "display_data",
          "data": {
            "text/plain": [
              "<Figure size 372x300 with 1 Axes>"
            ],
            "image/png": "[encoded data removed]"
          },
          "metadata": {}
        }
      ]
    },
    {
      "cell_type": "code",
      "source": [
        "import matplotlib.pyplot as plt\n",
        "\n",
        "\n",
        "pca_data.reshape((1, 1))\n",
        "\n",
        "\n",
        "plt.figure(figsize=(28,28))\n",
        "for i in range(5):\n",
        "  plt.subplot(4,5,i+1)\n",
        "  print(X_projected2.shape)\n",
        "  plt.imshow(d0[i], cmap='gray')\n",
        "  plt.axis('off')\n",
        "plt.show()"
      ],
      "metadata": {
        "colab": {
          "base_uri": "https://localhost:8080/",
          "height": 244
        },
        "id": "UG1WJx08kyOL",
        "outputId": "f4cc4a57-3e26-4939-da1b-4c12c1d6521d"
      },
      "execution_count": null,
      "outputs": [
        {
          "output_type": "error",
          "ename": "ValueError",
          "evalue": "ignored",
          "traceback": [
            "\u001b[0;31m---------------------------------------------------------------------------\u001b[0m",
            "\u001b[0;31mValueError\u001b[0m                                Traceback (most recent call last)",
            "\u001b[0;32m<ipython-input-149-6ad34b4e7285>\u001b[0m in \u001b[0;36m<cell line: 4>\u001b[0;34m()\u001b[0m\n\u001b[1;32m      2\u001b[0m \u001b[0;34m\u001b[0m\u001b[0m\n\u001b[1;32m      3\u001b[0m \u001b[0;34m\u001b[0m\u001b[0m\n\u001b[0;32m----> 4\u001b[0;31m \u001b[0mpca_data\u001b[0m\u001b[0;34m.\u001b[0m\u001b[0mreshape\u001b[0m\u001b[0;34m(\u001b[0m\u001b[0;34m(\u001b[0m\u001b[0;36m1\u001b[0m\u001b[0;34m,\u001b[0m \u001b[0;36m1\u001b[0m\u001b[0;34m)\u001b[0m\u001b[0;34m)\u001b[0m\u001b[0;34m\u001b[0m\u001b[0;34m\u001b[0m\u001b[0m\n\u001b[0m\u001b[1;32m      5\u001b[0m \u001b[0;34m\u001b[0m\u001b[0m\n\u001b[1;32m      6\u001b[0m \u001b[0;34m\u001b[0m\u001b[0m\n",
            "\u001b[0;31mValueError\u001b[0m: cannot reshape array of size 126000 into shape (1,1)"
          ]
        }
      ]
    }
  ]
}